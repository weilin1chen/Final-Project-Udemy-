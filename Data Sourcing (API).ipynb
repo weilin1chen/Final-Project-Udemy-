{
 "cells": [
  {
   "cell_type": "code",
   "execution_count": 28,
   "id": "7d924e80",
   "metadata": {},
   "outputs": [],
   "source": [
    "from sqlalchemy import create_engine\n",
    "import pymysql.cursors\n",
    "import pandas as pd\n",
    "from pyudemy import Udemy\n",
    "import getpass\n",
    "import requests\n",
    "import time\n",
    "import os"
   ]
  },
  {
   "cell_type": "code",
   "execution_count": 30,
   "id": "127606e1",
   "metadata": {},
   "outputs": [],
   "source": [
    "pw = os.getenv('mysql')\n",
    "connection_string = 'mysql+pymysql://root:' + pw + '@localhost:3306/'\n",
    "engine = create_engine(connection_string)"
   ]
  },
  {
   "cell_type": "code",
   "execution_count": 35,
   "id": "d9b0d76b",
   "metadata": {},
   "outputs": [],
   "source": [
    "def get_df_info(course_data):\n",
    "    \n",
    "    dicts_list = []\n",
    "    \n",
    "    for course in course_data['results']:\n",
    "        row = {}\n",
    "        row['course_id'] = course['id']\n",
    "        row['title'] = course['title']\n",
    "        row['published_time'] = course['published_time']\n",
    "        row['num_subscribers'] = course['num_subscribers'] \n",
    "        row['price'] = course['price']\n",
    "        row['discount'] = course['discount']\n",
    "        row['discount_price'] = course['discount_price']\n",
    "        \n",
    "        row['avg_rating'] = course['avg_rating']\n",
    "        row['avg_recent_rating'] = course['avg_rating_recent']\n",
    "        row['num_reviews'] = course['num_reviews']  \n",
    "        row['num_lectures'] = course['num_lectures']\n",
    "        row['num_quizzes'] = course['num_quizzes']\n",
    "        row['is_practice_test_course'] = course['is_practice_test_course']\n",
    "        \n",
    "        row['language'] = course['locale']['title']\n",
    "        row['content_length'] = course['estimated_content_length']\n",
    "        \n",
    "        row['primary_category'] = course['primary_category']['title']\n",
    "        row['primary_subcategory'] = course['primary_subcategory']['title']\n",
    "        \n",
    "        row['level'] = course['instructional_level_simple']\n",
    "        row['instructor'] = course['visible_instructors'][0]['display_name']\n",
    "        row['instructor_job_title'] = course['visible_instructors'][0]['job_title']\n",
    "        row['headline'] = course['headline']\n",
    "        row['description'] = course['description']\n",
    "        \n",
    "        row['url'] = course['url']\n",
    "        \n",
    "        dicts_list.append(row)\n",
    "        \n",
    "    return pd.DataFrame(dicts_list)\n",
    "    "
   ]
  },
  {
   "cell_type": "code",
   "execution_count": 36,
   "id": "8c3fb885",
   "metadata": {},
   "outputs": [],
   "source": [
    "def get_courses_info(first_page,last_page):\n",
    "    \n",
    "    df = pd.DataFrame(columns=['course_id', 'title', 'published_time', 'num_subscribers', 'price',\n",
    "       'discount', 'discount_price', 'avg_rating', 'avg_recent_rating',\n",
    "       'num_reviews', 'num_lectures', 'num_quizzes', 'is_practice_test_course',\n",
    "       'language', 'content_length', 'primary_category', 'primary_subcategory',\n",
    "       'level', 'instructor', 'instructor_job_title', 'headline',\n",
    "       'description', 'url'])\n",
    "    \n",
    "    for i in range(first_page, last_page+1):\n",
    "        url = f'https://www.udemy.com/api-2.0/courses/?page={i}&page_size=100&fields[course]=id,title,published_time,'\\\n",
    "        'num_subscribers,price,discount,discount_price,avg_rating,avg_rating_recent,num_reviews,num_lectures,num_quizzes,'\\\n",
    "        'is_practice_test_course,locale,estimated_content_length,primary_category,primary_subcategory,'\\\n",
    "        'instructional_level_simple,visible_instructors,headline,description,url'\n",
    "        course = requests.get(url,auth=auth).json()\n",
    "        df_page = get_df_info(course)\n",
    "        df = pd.concat([df_page, df])\n",
    "        time.sleep(2)\n",
    "    \n",
    "    return df"
   ]
  },
  {
   "cell_type": "code",
   "execution_count": 37,
   "id": "d20da54b",
   "metadata": {},
   "outputs": [],
   "source": [
    "def get_courses_cat(first_page,last_page):\n",
    "    \n",
    "    df = pd.DataFrame(columns=['course_id', 'title', 'published_time', 'num_subscribers', 'price',\n",
    "       'discount', 'discount_price', 'avg_rating', 'avg_recent_rating',\n",
    "       'num_reviews', 'num_lectures', 'num_quizzes', 'is_practice_test_course',\n",
    "       'language', 'content_length', 'primary_category', 'primary_subcategory',\n",
    "       'level', 'instructor', 'instructor_job_title', 'headline',\n",
    "       'description', 'url'])\n",
    "    \n",
    "    # Dropped 'Marketing' as a category \n",
    "    \n",
    "    categories = ['Business', 'Design', 'Development', 'Finance+%26+Accounting', 'Health+%26+Fitness', 'IT+%26+Software', \n",
    "                  'Lifestyle','Music', 'Office+Productivity','Personal+Development', 'Photography+%26+Video', \n",
    "                  'Teaching+%26+Academics']\n",
    "    \n",
    "    for cat in categories:\n",
    "        for i in range(first_page, last_page+1):\n",
    "            url = f'https://www.udemy.com/api-2.0/courses/?category={cat}&page={i}&page_size=100&fields[course]=id,title,published_time,'\\\n",
    "            'num_subscribers,price,discount,discount_price,avg_rating,avg_rating_recent,num_reviews,num_lectures,num_quizzes,'\\\n",
    "            'is_practice_test_course,locale,estimated_content_length,primary_category,primary_subcategory,'\\\n",
    "            'instructional_level_simple,visible_instructors,headline,description,url'\n",
    "            course = requests.get(url,auth=auth).json()\n",
    "            df_page = get_df_info(course)\n",
    "            df = pd.concat([df_page, df])\n",
    "            time.sleep(2)\n",
    "            print(cat)\n",
    "    \n",
    "    return df"
   ]
  },
  {
   "cell_type": "code",
   "execution_count": 38,
   "id": "b640cd04",
   "metadata": {},
   "outputs": [],
   "source": [
    "def get_courses_cat1(first_page,last_page):\n",
    "    \n",
    "    pw = os.getenv('mysql')\n",
    "    connection_string = 'mysql+pymysql://root:' + pw + '@localhost:3306/'\n",
    "    engine = create_engine(connection_string)\n",
    "    \n",
    "    df = pd.DataFrame(columns=['course_id', 'title', 'published_time', 'num_subscribers', 'price',\n",
    "       'discount', 'discount_price', 'avg_rating', 'avg_recent_rating',\n",
    "       'num_reviews', 'num_lectures', 'num_quizzes', 'is_practice_test_course',\n",
    "       'language', 'content_length', 'primary_category', 'primary_subcategory',\n",
    "       'level', 'instructor', 'instructor_job_title', 'headline',\n",
    "       'description', 'url'])\n",
    "    \n",
    "    # Dropped 'Marketing', 'Photography and Video' as categories \n",
    "    \n",
    "    categories = ['Business', 'Design', 'Development', 'Finance+%26+Accounting', 'Health+%26+Fitness', 'IT+%26+Software', \n",
    "                  'Lifestyle','Music', 'Office+Productivity','Personal+Development','Teaching and Academics']\n",
    "    \n",
    "    \n",
    "    \n",
    "    for cat in categories:\n",
    "        for i in range(first_page, last_page+1):\n",
    "            url = f'https://www.udemy.com/api-2.0/courses/?category={cat}&page={i}&page_size=100&fields[course]=id,title,published_time,'\\\n",
    "            'num_subscribers,price,discount,discount_price,avg_rating,avg_rating_recent,num_reviews,num_lectures,num_quizzes,'\\\n",
    "            'is_practice_test_course,locale,estimated_content_length,primary_category,primary_subcategory,'\\\n",
    "            'instructional_level_simple,visible_instructors,headline,description,url'\n",
    "            course = requests.get(url,auth=auth).json()\n",
    "            df_page = get_df_info(course)\n",
    "            df = pd.concat([df_page, df])\n",
    "            time.sleep(2)\n",
    "            print(cat)\n",
    "        \n",
    "        df.to_sql(\"df_{}\".format(cat), connection_string, schema='udemy', if_exists='replace', index = False)\n",
    "    \n",
    "    return df"
   ]
  },
  {
   "cell_type": "code",
   "execution_count": 113,
   "id": "780dbea7",
   "metadata": {},
   "outputs": [],
   "source": [
    "def get_df_reviews(review_data):\n",
    "    \n",
    "    dicts_list = []\n",
    "    \n",
    "    for review in review_data['results']:\n",
    "        row = {}\n",
    "        row['review_id'] = review['id']\n",
    "        row['rating'] = review['rating']\n",
    "        row['comment'] = review['content']\n",
    "        row['created_time'] = review['created'] \n",
    "        row['user'] = review['user']['display_name']\n",
    "        \n",
    "        dicts_list.append(row)\n",
    "        \n",
    "    return pd.DataFrame(dicts_list)"
   ]
  },
  {
   "cell_type": "code",
   "execution_count": 114,
   "id": "1eac0f66",
   "metadata": {},
   "outputs": [],
   "source": [
    "def get_reviews(id_list,first_page,last_page):\n",
    "    \n",
    "    df = pd.DataFrame(columns=['review_id', 'rating', 'comment', 'created_time', 'user', 'course_id'])\n",
    "    \n",
    "    for course_id in id_list:\n",
    "        for i in range(first_page, last_page+1):\n",
    "            url = f'https://www.udemy.com/api-2.0/courses/{course_id}/reviews/?page={i}&page_size=100'\n",
    "            course = requests.get(url,auth=auth).json()\n",
    "            df_page = get_df_reviews(course)\n",
    "            df_page['course_id'] = course_id\n",
    "            df = pd.concat([df_page, df])\n",
    "            time.sleep(2)\n",
    "        print(course_id)\n",
    "    \n",
    "    return df"
   ]
  },
  {
   "cell_type": "code",
   "execution_count": 202,
   "id": "0140b8a6",
   "metadata": {},
   "outputs": [],
   "source": [
    "def get_df_curriculum(curriculum):\n",
    "    \n",
    "    dicts_list = []\n",
    "    row = {}\n",
    "    n = 1\n",
    "    for session in curriculum['results']:\n",
    "        row[f'type_session_{n}'] = session['_class']\n",
    "        row[f'title_session_{n}'] = session['title']\n",
    "        \n",
    "        n = n + 1\n",
    "        \n",
    "    dicts_list.append(row)\n",
    "        \n",
    "    return pd.DataFrame(dicts_list)"
   ]
  },
  {
   "cell_type": "code",
   "execution_count": 203,
   "id": "5f3f99d5",
   "metadata": {},
   "outputs": [],
   "source": [
    "def get_curricula(id_list,first_page,last_page):\n",
    "    \n",
    "    df = pd.DataFrame(columns=['type_session_1', 'title_session_1', 'type_session_2', 'title_session_2',\n",
    "                               'type_session_3', 'title_session_3', 'type_session_4', 'title_session_4'])\n",
    "    \n",
    "    for course_id in id_list:\n",
    "        for i in range(first_page, last_page+1):\n",
    "            url = f'https://www.udemy.com/api-2.0/courses/{course_id}/public-curriculum-items/?page=1&page_size=4'\n",
    "            course = requests.get(url,auth=auth).json()\n",
    "            df_page = get_df_curriculum(course)\n",
    "            df_page['course_id'] = course_id\n",
    "            df = pd.concat([df_page, df])\n",
    "            time.sleep(2)\n",
    "        print(course_id)\n",
    "        \n",
    "    df['course_id'] = df['course_id'].astype(int)\n",
    "    \n",
    "    return df"
   ]
  },
  {
   "cell_type": "code",
   "execution_count": null,
   "id": "e6177e54",
   "metadata": {},
   "outputs": [],
   "source": []
  },
  {
   "cell_type": "code",
   "execution_count": null,
   "id": "14e4ae28",
   "metadata": {},
   "outputs": [],
   "source": []
  },
  {
   "cell_type": "code",
   "execution_count": null,
   "id": "51665692",
   "metadata": {},
   "outputs": [],
   "source": []
  },
  {
   "cell_type": "code",
   "execution_count": 9,
   "id": "506ec276",
   "metadata": {},
   "outputs": [
    {
     "name": "stdout",
     "output_type": "stream",
     "text": [
      "········\n"
     ]
    }
   ],
   "source": [
    "Client_ID = getpass.getpass()"
   ]
  },
  {
   "cell_type": "code",
   "execution_count": 10,
   "id": "c8fa6ea0",
   "metadata": {},
   "outputs": [
    {
     "name": "stdout",
     "output_type": "stream",
     "text": [
      "········\n"
     ]
    }
   ],
   "source": [
    "Client_Secret = getpass.getpass()"
   ]
  },
  {
   "cell_type": "code",
   "execution_count": 14,
   "id": "2d67e08a",
   "metadata": {},
   "outputs": [],
   "source": [
    "udemy = Udemy('zUBi3x7r46IBTwt5H5PPu8NRvxgQvy8F0ep2if3b', 'BCezCskbH1EBkOE8kVlo1QyaMd8eyFONKvS0sBpZrRibwsujmVvxxxXkXGpPni2f0d8ikbpKdNOTaOl5KMBjIwpoWARZPq0GrtKrj85zxOVpbDHwuvOqSpSbsaMvqlXn')"
   ]
  },
  {
   "cell_type": "code",
   "execution_count": 54,
   "id": "da69e7da",
   "metadata": {},
   "outputs": [],
   "source": [
    "auth = ('zUBi3x7r46IBTwt5H5PPu8NRvxgQvy8F0ep2if3b', 'BCezCskbH1EBkOE8kVlo1QyaMd8eyFONKvS0sBpZrRibwsujmVvxxxXkXGpPni2f0d8ikbpKdNOTaOl5KMBjIwpoWARZPq0GrtKrj85zxOVpbDHwuvOqSpSbsaMvqlXn')"
   ]
  },
  {
   "cell_type": "code",
   "execution_count": null,
   "id": "d67218f1",
   "metadata": {},
   "outputs": [],
   "source": []
  },
  {
   "cell_type": "code",
   "execution_count": null,
   "id": "e3087145",
   "metadata": {},
   "outputs": [],
   "source": [
    "# Getting the a1 and a2 batches"
   ]
  },
  {
   "cell_type": "code",
   "execution_count": null,
   "id": "2d381742",
   "metadata": {},
   "outputs": [],
   "source": [
    "# Batch a1"
   ]
  },
  {
   "cell_type": "code",
   "execution_count": 95,
   "id": "d354d03e",
   "metadata": {},
   "outputs": [],
   "source": [
    "df_courses_a1 = get_courses(1,50)"
   ]
  },
  {
   "cell_type": "code",
   "execution_count": 96,
   "id": "c83fd289",
   "metadata": {},
   "outputs": [
    {
     "data": {
      "text/html": [
       "<div>\n",
       "<style scoped>\n",
       "    .dataframe tbody tr th:only-of-type {\n",
       "        vertical-align: middle;\n",
       "    }\n",
       "\n",
       "    .dataframe tbody tr th {\n",
       "        vertical-align: top;\n",
       "    }\n",
       "\n",
       "    .dataframe thead th {\n",
       "        text-align: right;\n",
       "    }\n",
       "</style>\n",
       "<table border=\"1\" class=\"dataframe\">\n",
       "  <thead>\n",
       "    <tr style=\"text-align: right;\">\n",
       "      <th></th>\n",
       "      <th>course_id</th>\n",
       "      <th>title</th>\n",
       "      <th>url</th>\n",
       "      <th>is_paid</th>\n",
       "      <th>price</th>\n",
       "      <th>is_practice_test_course</th>\n",
       "      <th>headline</th>\n",
       "      <th>instructor</th>\n",
       "      <th>instructor_job_title</th>\n",
       "    </tr>\n",
       "  </thead>\n",
       "  <tbody>\n",
       "    <tr>\n",
       "      <th>0</th>\n",
       "      <td>2926876</td>\n",
       "      <td>Guitar Lessons for Beginners (In Hindi)</td>\n",
       "      <td>/course/playandsing/</td>\n",
       "      <td>False</td>\n",
       "      <td>Free</td>\n",
       "      <td>False</td>\n",
       "      <td>World needs more Musicians.</td>\n",
       "      <td>Vishal Diwan</td>\n",
       "      <td>Nikon School Mentor - India</td>\n",
       "    </tr>\n",
       "    <tr>\n",
       "      <th>1</th>\n",
       "      <td>4830898</td>\n",
       "      <td>JavaScript - Intermediate &amp; Advanced (2022)</td>\n",
       "      <td>/course/sharecodecamp-javascript/</td>\n",
       "      <td>False</td>\n",
       "      <td>Free</td>\n",
       "      <td>False</td>\n",
       "      <td>Understanding Behind The Scene!...</td>\n",
       "      <td>Enes Karakaş</td>\n",
       "      <td>Developer &amp; @shareCodeCamp</td>\n",
       "    </tr>\n",
       "    <tr>\n",
       "      <th>2</th>\n",
       "      <td>3809298</td>\n",
       "      <td>Problem solving techniques</td>\n",
       "      <td>/course/problem-solving-techniques-n/</td>\n",
       "      <td>False</td>\n",
       "      <td>Free</td>\n",
       "      <td>False</td>\n",
       "      <td>A comprehensive guide to systematic thinking f...</td>\n",
       "      <td>Mahmoud Elhalabi</td>\n",
       "      <td>Doctorate of business adminstration - Training...</td>\n",
       "    </tr>\n",
       "    <tr>\n",
       "      <th>3</th>\n",
       "      <td>4810282</td>\n",
       "      <td>Learn how to Create Beats in Fl Studio</td>\n",
       "      <td>/course/learn-how-to-create-beats-in-fl-studio/</td>\n",
       "      <td>False</td>\n",
       "      <td>Free</td>\n",
       "      <td>False</td>\n",
       "      <td>Start your journey of Making Music Live</td>\n",
       "      <td>Divine YJ Truth</td>\n",
       "      <td>I am a Producer</td>\n",
       "    </tr>\n",
       "    <tr>\n",
       "      <th>4</th>\n",
       "      <td>3538116</td>\n",
       "      <td>Start Money Making WordPress Blog Today!</td>\n",
       "      <td>/course/create-a-website-blog-for-affiliate-ma...</td>\n",
       "      <td>False</td>\n",
       "      <td>Free</td>\n",
       "      <td>False</td>\n",
       "      <td>Start your Affiliate Marketing Website by foll...</td>\n",
       "      <td>Azharul Rafy</td>\n",
       "      <td>Content Creator &amp; Digital Marketer</td>\n",
       "    </tr>\n",
       "    <tr>\n",
       "      <th>...</th>\n",
       "      <td>...</td>\n",
       "      <td>...</td>\n",
       "      <td>...</td>\n",
       "      <td>...</td>\n",
       "      <td>...</td>\n",
       "      <td>...</td>\n",
       "      <td>...</td>\n",
       "      <td>...</td>\n",
       "      <td>...</td>\n",
       "    </tr>\n",
       "    <tr>\n",
       "      <th>95</th>\n",
       "      <td>467294</td>\n",
       "      <td>Introduction to SDN and OpenFlow</td>\n",
       "      <td>/course/sdn-openflow-nfv-introduction/</td>\n",
       "      <td>False</td>\n",
       "      <td>Free</td>\n",
       "      <td>False</td>\n",
       "      <td>What is SDN, OpenFlow and NFV? Is this actuall...</td>\n",
       "      <td>David Bombal</td>\n",
       "      <td>CCIE #11023, over 15 years of network training...</td>\n",
       "    </tr>\n",
       "    <tr>\n",
       "      <th>96</th>\n",
       "      <td>5081160</td>\n",
       "      <td>Working Remotely Secrets: 10X Your Focus in Ju...</td>\n",
       "      <td>/course/working-remotely-mastery/</td>\n",
       "      <td>False</td>\n",
       "      <td>Free</td>\n",
       "      <td>False</td>\n",
       "      <td>The Professional Guide To Working Remotely</td>\n",
       "      <td>Silviu Marisk - Effective Learning Lab</td>\n",
       "      <td>Online Instructor Teaching 18 Courses and 200,...</td>\n",
       "    </tr>\n",
       "    <tr>\n",
       "      <th>97</th>\n",
       "      <td>390910</td>\n",
       "      <td>Fundamentals of Programming: Understanding C#</td>\n",
       "      <td>/course/understandingc/</td>\n",
       "      <td>False</td>\n",
       "      <td>Free</td>\n",
       "      <td>False</td>\n",
       "      <td>Begin your journey into the world of programmi...</td>\n",
       "      <td>Jesse Dietrichson</td>\n",
       "      <td>Senior Content Developer at Microsoft</td>\n",
       "    </tr>\n",
       "    <tr>\n",
       "      <th>98</th>\n",
       "      <td>217000</td>\n",
       "      <td>Learn to Program in Javascript: Beginner to Pro</td>\n",
       "      <td>/course/programming-in-javascript/</td>\n",
       "      <td>False</td>\n",
       "      <td>Free</td>\n",
       "      <td>False</td>\n",
       "      <td>Don't just be a good programmer, become a grea...</td>\n",
       "      <td>Raghavendra Dixit</td>\n",
       "      <td>Dizauvi Learning Solutions</td>\n",
       "    </tr>\n",
       "    <tr>\n",
       "      <th>99</th>\n",
       "      <td>173342</td>\n",
       "      <td>How to Change Your Thinking &amp; become more Posi...</td>\n",
       "      <td>/course/change-your-thinking/</td>\n",
       "      <td>False</td>\n",
       "      <td>Free</td>\n",
       "      <td>False</td>\n",
       "      <td>Quick inspirational video tips to shift your p...</td>\n",
       "      <td>Wolfgang Riebe</td>\n",
       "      <td>Memorable Magical Moments</td>\n",
       "    </tr>\n",
       "  </tbody>\n",
       "</table>\n",
       "<p>5000 rows × 9 columns</p>\n",
       "</div>"
      ],
      "text/plain": [
       "   course_id                                              title  \\\n",
       "0    2926876            Guitar Lessons for Beginners (In Hindi)   \n",
       "1    4830898        JavaScript - Intermediate & Advanced (2022)   \n",
       "2    3809298                         Problem solving techniques   \n",
       "3    4810282             Learn how to Create Beats in Fl Studio   \n",
       "4    3538116           Start Money Making WordPress Blog Today!   \n",
       "..       ...                                                ...   \n",
       "95    467294                   Introduction to SDN and OpenFlow   \n",
       "96   5081160  Working Remotely Secrets: 10X Your Focus in Ju...   \n",
       "97    390910      Fundamentals of Programming: Understanding C#   \n",
       "98    217000    Learn to Program in Javascript: Beginner to Pro   \n",
       "99    173342  How to Change Your Thinking & become more Posi...   \n",
       "\n",
       "                                                  url is_paid price  \\\n",
       "0                                /course/playandsing/   False  Free   \n",
       "1                   /course/sharecodecamp-javascript/   False  Free   \n",
       "2               /course/problem-solving-techniques-n/   False  Free   \n",
       "3     /course/learn-how-to-create-beats-in-fl-studio/   False  Free   \n",
       "4   /course/create-a-website-blog-for-affiliate-ma...   False  Free   \n",
       "..                                                ...     ...   ...   \n",
       "95             /course/sdn-openflow-nfv-introduction/   False  Free   \n",
       "96                  /course/working-remotely-mastery/   False  Free   \n",
       "97                            /course/understandingc/   False  Free   \n",
       "98                 /course/programming-in-javascript/   False  Free   \n",
       "99                      /course/change-your-thinking/   False  Free   \n",
       "\n",
       "   is_practice_test_course                                           headline  \\\n",
       "0                    False                        World needs more Musicians.   \n",
       "1                    False                 Understanding Behind The Scene!...   \n",
       "2                    False  A comprehensive guide to systematic thinking f...   \n",
       "3                    False            Start your journey of Making Music Live   \n",
       "4                    False  Start your Affiliate Marketing Website by foll...   \n",
       "..                     ...                                                ...   \n",
       "95                   False  What is SDN, OpenFlow and NFV? Is this actuall...   \n",
       "96                   False         The Professional Guide To Working Remotely   \n",
       "97                   False  Begin your journey into the world of programmi...   \n",
       "98                   False  Don't just be a good programmer, become a grea...   \n",
       "99                   False  Quick inspirational video tips to shift your p...   \n",
       "\n",
       "                                instructor  \\\n",
       "0                             Vishal Diwan   \n",
       "1                             Enes Karakaş   \n",
       "2                         Mahmoud Elhalabi   \n",
       "3                          Divine YJ Truth   \n",
       "4                             Azharul Rafy   \n",
       "..                                     ...   \n",
       "95                            David Bombal   \n",
       "96  Silviu Marisk - Effective Learning Lab   \n",
       "97                       Jesse Dietrichson   \n",
       "98                       Raghavendra Dixit   \n",
       "99                          Wolfgang Riebe   \n",
       "\n",
       "                                 instructor_job_title  \n",
       "0                         Nikon School Mentor - India  \n",
       "1                          Developer & @shareCodeCamp  \n",
       "2   Doctorate of business adminstration - Training...  \n",
       "3                                     I am a Producer  \n",
       "4                  Content Creator & Digital Marketer  \n",
       "..                                                ...  \n",
       "95  CCIE #11023, over 15 years of network training...  \n",
       "96  Online Instructor Teaching 18 Courses and 200,...  \n",
       "97              Senior Content Developer at Microsoft  \n",
       "98                         Dizauvi Learning Solutions  \n",
       "99                          Memorable Magical Moments  \n",
       "\n",
       "[5000 rows x 9 columns]"
      ]
     },
     "execution_count": 96,
     "metadata": {},
     "output_type": "execute_result"
    }
   ],
   "source": [
    "df_courses_a1"
   ]
  },
  {
   "cell_type": "code",
   "execution_count": 97,
   "id": "d8af5417",
   "metadata": {},
   "outputs": [
    {
     "data": {
      "text/plain": [
       "5000"
      ]
     },
     "execution_count": 97,
     "metadata": {},
     "output_type": "execute_result"
    }
   ],
   "source": [
    "pw = os.getenv('mysql')\n",
    "connection_string = 'mysql+pymysql://root:' + pw + '@localhost:3306/'\n",
    "engine = create_engine(connection_string)\n",
    "df_courses_a1.to_sql(\"df_courses_a1\", connection_string, schema='udemy', if_exists='replace', index = False)"
   ]
  },
  {
   "cell_type": "code",
   "execution_count": null,
   "id": "bb7e4cca",
   "metadata": {},
   "outputs": [],
   "source": []
  },
  {
   "cell_type": "code",
   "execution_count": null,
   "id": "cd88bc73",
   "metadata": {},
   "outputs": [],
   "source": [
    "# Batch a2"
   ]
  },
  {
   "cell_type": "code",
   "execution_count": 93,
   "id": "fcde56e2",
   "metadata": {},
   "outputs": [],
   "source": [
    "df_courses_a2 = get_courses(51,83)"
   ]
  },
  {
   "cell_type": "code",
   "execution_count": 94,
   "id": "cc08c034",
   "metadata": {},
   "outputs": [
    {
     "data": {
      "text/plain": [
       "3300"
      ]
     },
     "execution_count": 94,
     "metadata": {},
     "output_type": "execute_result"
    }
   ],
   "source": [
    "pw = os.getenv('mysql')\n",
    "connection_string = 'mysql+pymysql://root:' + pw + '@localhost:3306/'\n",
    "engine = create_engine(connection_string)\n",
    "df_courses_a2.to_sql(\"df_courses_a2\", connection_string, schema='udemy', if_exists='replace', index = False)"
   ]
  },
  {
   "cell_type": "code",
   "execution_count": null,
   "id": "39f9c560",
   "metadata": {},
   "outputs": [],
   "source": []
  },
  {
   "cell_type": "code",
   "execution_count": null,
   "id": "2eb647ea",
   "metadata": {},
   "outputs": [],
   "source": [
    "# Getting list of course ids from batch 1 and 2"
   ]
  },
  {
   "cell_type": "code",
   "execution_count": 110,
   "id": "b82ca6d1",
   "metadata": {},
   "outputs": [],
   "source": [
    "concat = pd.concat([df_courses_a1, df_courses_a2])"
   ]
  },
  {
   "cell_type": "code",
   "execution_count": 111,
   "id": "07320603",
   "metadata": {},
   "outputs": [],
   "source": [
    "concat = concat.drop_duplicates()"
   ]
  },
  {
   "cell_type": "code",
   "execution_count": 112,
   "id": "3926c84b",
   "metadata": {},
   "outputs": [
    {
     "data": {
      "text/plain": [
       "1"
      ]
     },
     "execution_count": 112,
     "metadata": {},
     "output_type": "execute_result"
    }
   ],
   "source": [
    "concat['course_id'].duplicated().sum()"
   ]
  },
  {
   "cell_type": "code",
   "execution_count": 107,
   "id": "69be59ee",
   "metadata": {},
   "outputs": [],
   "source": [
    "concat = concat[~(concat['course_id'] == 3693246) & (concat['price'] == '€19.99')] #drop duplicated Course ID"
   ]
  },
  {
   "cell_type": "code",
   "execution_count": 109,
   "id": "5b3363ae",
   "metadata": {},
   "outputs": [
    {
     "data": {
      "text/plain": [
       "0"
      ]
     },
     "execution_count": 109,
     "metadata": {},
     "output_type": "execute_result"
    }
   ],
   "source": [
    "concat['course_id'].duplicated().sum()"
   ]
  },
  {
   "cell_type": "code",
   "execution_count": 116,
   "id": "309aa276",
   "metadata": {},
   "outputs": [],
   "source": [
    "course_id_list = list(concat['course_id']) #getting a list of course ids"
   ]
  },
  {
   "cell_type": "code",
   "execution_count": null,
   "id": "d7de19b8",
   "metadata": {},
   "outputs": [],
   "source": []
  },
  {
   "cell_type": "code",
   "execution_count": null,
   "id": "1df2f163",
   "metadata": {},
   "outputs": [],
   "source": [
    "# Getting batches A and B and C through course list"
   ]
  },
  {
   "cell_type": "code",
   "execution_count": 7,
   "id": "c93bc8b4",
   "metadata": {},
   "outputs": [],
   "source": [
    "df_courses_a = get_courses_info(1,50) #batch A"
   ]
  },
  {
   "cell_type": "code",
   "execution_count": 10,
   "id": "9a217340",
   "metadata": {},
   "outputs": [
    {
     "data": {
      "text/plain": [
       "5000"
      ]
     },
     "execution_count": 10,
     "metadata": {},
     "output_type": "execute_result"
    }
   ],
   "source": [
    "pw = os.getenv('mysql')\n",
    "connection_string = 'mysql+pymysql://root:' + pw + '@localhost:3306/'\n",
    "engine = create_engine(connection_string)\n",
    "df_courses_a.to_sql(\"df_courses_a\", connection_string, schema='udemy', if_exists='replace', index = False)"
   ]
  },
  {
   "cell_type": "code",
   "execution_count": null,
   "id": "84b758cc",
   "metadata": {},
   "outputs": [],
   "source": []
  },
  {
   "cell_type": "code",
   "execution_count": 349,
   "id": "c53623ef",
   "metadata": {},
   "outputs": [],
   "source": [
    "df_courses_b = get_courses_info(51,80) #batch B"
   ]
  },
  {
   "cell_type": "code",
   "execution_count": 350,
   "id": "5226c5db",
   "metadata": {},
   "outputs": [
    {
     "data": {
      "text/plain": [
       "3000"
      ]
     },
     "execution_count": 350,
     "metadata": {},
     "output_type": "execute_result"
    }
   ],
   "source": [
    "pw = os.getenv('mysql')\n",
    "connection_string = 'mysql+pymysql://root:' + pw + '@localhost:3306/'\n",
    "engine = create_engine(connection_string)\n",
    "df_courses_b.to_sql(\"df_courses_b\", connection_string, schema='udemy', if_exists='replace', index = False)"
   ]
  },
  {
   "cell_type": "code",
   "execution_count": null,
   "id": "88a718af",
   "metadata": {},
   "outputs": [],
   "source": []
  },
  {
   "cell_type": "code",
   "execution_count": 359,
   "id": "0b5df5c5",
   "metadata": {},
   "outputs": [],
   "source": [
    "df_courses_c = get_courses_info(81,84) #batch C"
   ]
  },
  {
   "cell_type": "code",
   "execution_count": 360,
   "id": "fd1d3c8e",
   "metadata": {},
   "outputs": [
    {
     "data": {
      "text/plain": [
       "380"
      ]
     },
     "execution_count": 360,
     "metadata": {},
     "output_type": "execute_result"
    }
   ],
   "source": [
    "pw = os.getenv('mysql')\n",
    "connection_string = 'mysql+pymysql://root:' + pw + '@localhost:3306/'\n",
    "engine = create_engine(connection_string)\n",
    "df_courses_c.to_sql(\"df_courses_c\", connection_string, schema='udemy', if_exists='replace', index = False)"
   ]
  },
  {
   "cell_type": "code",
   "execution_count": null,
   "id": "eca7ec5b",
   "metadata": {},
   "outputs": [],
   "source": []
  },
  {
   "cell_type": "code",
   "execution_count": null,
   "id": "a11a1db8",
   "metadata": {},
   "outputs": [],
   "source": [
    "# Getting data based on categories"
   ]
  },
  {
   "cell_type": "code",
   "execution_count": null,
   "id": "0f5183e8",
   "metadata": {},
   "outputs": [],
   "source": [
    "# Batch D"
   ]
  },
  {
   "cell_type": "code",
   "execution_count": 39,
   "id": "31f5c358",
   "metadata": {},
   "outputs": [
    {
     "name": "stdout",
     "output_type": "stream",
     "text": [
      "Business\n",
      "Business\n",
      "Business\n",
      "Business\n",
      "Business\n",
      "Business\n",
      "Business\n",
      "Business\n",
      "Business\n",
      "Business\n",
      "Design\n",
      "Design\n",
      "Design\n",
      "Design\n",
      "Design\n",
      "Design\n",
      "Design\n",
      "Design\n",
      "Design\n",
      "Design\n",
      "Development\n",
      "Development\n",
      "Development\n",
      "Development\n",
      "Development\n",
      "Development\n",
      "Development\n",
      "Development\n",
      "Development\n",
      "Development\n",
      "Finance+%26+Accounting\n",
      "Finance+%26+Accounting\n",
      "Finance+%26+Accounting\n",
      "Finance+%26+Accounting\n",
      "Finance+%26+Accounting\n",
      "Finance+%26+Accounting\n",
      "Finance+%26+Accounting\n",
      "Finance+%26+Accounting\n",
      "Finance+%26+Accounting\n",
      "Finance+%26+Accounting\n",
      "Health+%26+Fitness\n",
      "Health+%26+Fitness\n",
      "Health+%26+Fitness\n",
      "Health+%26+Fitness\n",
      "Health+%26+Fitness\n",
      "Health+%26+Fitness\n",
      "Health+%26+Fitness\n",
      "Health+%26+Fitness\n",
      "Health+%26+Fitness\n",
      "Health+%26+Fitness\n",
      "IT+%26+Software\n",
      "IT+%26+Software\n",
      "IT+%26+Software\n",
      "IT+%26+Software\n",
      "IT+%26+Software\n",
      "IT+%26+Software\n",
      "IT+%26+Software\n",
      "IT+%26+Software\n",
      "IT+%26+Software\n",
      "IT+%26+Software\n",
      "Lifestyle\n",
      "Lifestyle\n",
      "Lifestyle\n",
      "Lifestyle\n",
      "Lifestyle\n",
      "Lifestyle\n",
      "Lifestyle\n",
      "Lifestyle\n",
      "Lifestyle\n",
      "Lifestyle\n",
      "Music\n",
      "Music\n",
      "Music\n",
      "Music\n",
      "Music\n",
      "Music\n",
      "Music\n",
      "Music\n",
      "Music\n",
      "Music\n",
      "Office+Productivity\n",
      "Office+Productivity\n",
      "Office+Productivity\n",
      "Office+Productivity\n",
      "Office+Productivity\n",
      "Office+Productivity\n",
      "Office+Productivity\n",
      "Office+Productivity\n",
      "Office+Productivity\n",
      "Office+Productivity\n",
      "Personal+Development\n",
      "Personal+Development\n",
      "Personal+Development\n",
      "Personal+Development\n",
      "Personal+Development\n",
      "Personal+Development\n",
      "Personal+Development\n",
      "Personal+Development\n",
      "Personal+Development\n",
      "Personal+Development\n",
      "Photography+%26+Video\n",
      "Photography+%26+Video\n",
      "Photography+%26+Video\n",
      "Photography+%26+Video\n",
      "Photography+%26+Video\n",
      "Photography+%26+Video\n",
      "Photography+%26+Video\n",
      "Photography+%26+Video\n",
      "Photography+%26+Video\n",
      "Photography+%26+Video\n",
      "Teaching+%26+Academics\n",
      "Teaching+%26+Academics\n",
      "Teaching+%26+Academics\n",
      "Teaching+%26+Academics\n",
      "Teaching+%26+Academics\n",
      "Teaching+%26+Academics\n",
      "Teaching+%26+Academics\n",
      "Teaching+%26+Academics\n",
      "Teaching+%26+Academics\n",
      "Teaching+%26+Academics\n"
     ]
    }
   ],
   "source": [
    "df_courses_d = get_courses_cat(1,10)"
   ]
  },
  {
   "cell_type": "code",
   "execution_count": 40,
   "id": "a2db6bc6",
   "metadata": {},
   "outputs": [
    {
     "data": {
      "text/plain": [
       "12000"
      ]
     },
     "execution_count": 40,
     "metadata": {},
     "output_type": "execute_result"
    }
   ],
   "source": [
    "pw = os.getenv('mysql')\n",
    "connection_string = 'mysql+pymysql://root:' + pw + '@localhost:3306/'\n",
    "engine = create_engine(connection_string)\n",
    "df_courses_d.to_sql(\"df_courses_d\", connection_string, schema='udemy', if_exists='replace', index = False)"
   ]
  },
  {
   "cell_type": "code",
   "execution_count": null,
   "id": "f4790bb1",
   "metadata": {},
   "outputs": [],
   "source": []
  },
  {
   "cell_type": "code",
   "execution_count": null,
   "id": "be83b430",
   "metadata": {},
   "outputs": [],
   "source": [
    "# Batch E (split into some and not all categories)"
   ]
  },
  {
   "cell_type": "code",
   "execution_count": 12,
   "id": "25029d39",
   "metadata": {},
   "outputs": [
    {
     "name": "stdout",
     "output_type": "stream",
     "text": [
      "Business\n",
      "Business\n",
      "Business\n",
      "Business\n",
      "Business\n",
      "Business\n",
      "Business\n",
      "Business\n",
      "Business\n",
      "Business\n",
      "Business\n",
      "Business\n",
      "Business\n",
      "Business\n",
      "Business\n",
      "Business\n",
      "Business\n",
      "Business\n",
      "Business\n",
      "Business\n",
      "Business\n",
      "Business\n",
      "Business\n",
      "Business\n",
      "Business\n",
      "Business\n",
      "Business\n",
      "Business\n",
      "Business\n",
      "Business\n",
      "Business\n",
      "Business\n",
      "Business\n",
      "Business\n",
      "Business\n",
      "Business\n",
      "Business\n",
      "Business\n",
      "Business\n",
      "Business\n"
     ]
    },
    {
     "name": "stderr",
     "output_type": "stream",
     "text": [
      "C:\\Users\\weili\\AppData\\Local\\Temp\\ipykernel_16968\\4013873848.py:33: UserWarning: The provided table name 'df_Business' is not found exactly as such in the database after writing the table, possibly due to case sensitivity issues. Consider using lower case table names.\n",
      "  df.to_sql(\"df_{}\".format(cat), connection_string, schema='udemy', if_exists='replace', index = False)\n"
     ]
    },
    {
     "name": "stdout",
     "output_type": "stream",
     "text": [
      "Design\n",
      "Design\n",
      "Design\n",
      "Design\n",
      "Design\n",
      "Design\n",
      "Design\n",
      "Design\n",
      "Design\n",
      "Design\n",
      "Design\n",
      "Design\n",
      "Design\n",
      "Design\n",
      "Design\n",
      "Design\n",
      "Design\n",
      "Design\n",
      "Design\n",
      "Design\n",
      "Design\n",
      "Design\n",
      "Design\n",
      "Design\n",
      "Design\n",
      "Design\n",
      "Design\n",
      "Design\n",
      "Design\n",
      "Design\n",
      "Design\n",
      "Design\n",
      "Design\n",
      "Design\n",
      "Design\n",
      "Design\n",
      "Design\n",
      "Design\n",
      "Design\n",
      "Design\n"
     ]
    },
    {
     "name": "stderr",
     "output_type": "stream",
     "text": [
      "C:\\Users\\weili\\AppData\\Local\\Temp\\ipykernel_16968\\4013873848.py:33: UserWarning: The provided table name 'df_Design' is not found exactly as such in the database after writing the table, possibly due to case sensitivity issues. Consider using lower case table names.\n",
      "  df.to_sql(\"df_{}\".format(cat), connection_string, schema='udemy', if_exists='replace', index = False)\n"
     ]
    },
    {
     "name": "stdout",
     "output_type": "stream",
     "text": [
      "Development\n",
      "Development\n",
      "Development\n",
      "Development\n",
      "Development\n",
      "Development\n",
      "Development\n",
      "Development\n",
      "Development\n",
      "Development\n",
      "Development\n",
      "Development\n",
      "Development\n",
      "Development\n",
      "Development\n",
      "Development\n",
      "Development\n",
      "Development\n",
      "Development\n",
      "Development\n",
      "Development\n",
      "Development\n",
      "Development\n",
      "Development\n",
      "Development\n",
      "Development\n",
      "Development\n",
      "Development\n",
      "Development\n",
      "Development\n",
      "Development\n",
      "Development\n",
      "Development\n",
      "Development\n",
      "Development\n",
      "Development\n",
      "Development\n",
      "Development\n",
      "Development\n",
      "Development\n"
     ]
    },
    {
     "name": "stderr",
     "output_type": "stream",
     "text": [
      "C:\\Users\\weili\\AppData\\Local\\Temp\\ipykernel_16968\\4013873848.py:33: UserWarning: The provided table name 'df_Development' is not found exactly as such in the database after writing the table, possibly due to case sensitivity issues. Consider using lower case table names.\n",
      "  df.to_sql(\"df_{}\".format(cat), connection_string, schema='udemy', if_exists='replace', index = False)\n"
     ]
    },
    {
     "name": "stdout",
     "output_type": "stream",
     "text": [
      "Finance+%26+Accounting\n",
      "Finance+%26+Accounting\n",
      "Finance+%26+Accounting\n",
      "Finance+%26+Accounting\n",
      "Finance+%26+Accounting\n",
      "Finance+%26+Accounting\n",
      "Finance+%26+Accounting\n",
      "Finance+%26+Accounting\n",
      "Finance+%26+Accounting\n",
      "Finance+%26+Accounting\n",
      "Finance+%26+Accounting\n",
      "Finance+%26+Accounting\n",
      "Finance+%26+Accounting\n",
      "Finance+%26+Accounting\n",
      "Finance+%26+Accounting\n",
      "Finance+%26+Accounting\n",
      "Finance+%26+Accounting\n",
      "Finance+%26+Accounting\n",
      "Finance+%26+Accounting\n",
      "Finance+%26+Accounting\n",
      "Finance+%26+Accounting\n",
      "Finance+%26+Accounting\n",
      "Finance+%26+Accounting\n",
      "Finance+%26+Accounting\n",
      "Finance+%26+Accounting\n",
      "Finance+%26+Accounting\n",
      "Finance+%26+Accounting\n",
      "Finance+%26+Accounting\n",
      "Finance+%26+Accounting\n",
      "Finance+%26+Accounting\n",
      "Finance+%26+Accounting\n",
      "Finance+%26+Accounting\n",
      "Finance+%26+Accounting\n",
      "Finance+%26+Accounting\n",
      "Finance+%26+Accounting\n",
      "Finance+%26+Accounting\n",
      "Finance+%26+Accounting\n",
      "Finance+%26+Accounting\n",
      "Finance+%26+Accounting\n",
      "Finance+%26+Accounting\n"
     ]
    },
    {
     "name": "stderr",
     "output_type": "stream",
     "text": [
      "C:\\Users\\weili\\AppData\\Local\\Temp\\ipykernel_16968\\4013873848.py:33: UserWarning: The provided table name 'df_Finance+%26+Accounting' is not found exactly as such in the database after writing the table, possibly due to case sensitivity issues. Consider using lower case table names.\n",
      "  df.to_sql(\"df_{}\".format(cat), connection_string, schema='udemy', if_exists='replace', index = False)\n"
     ]
    },
    {
     "name": "stdout",
     "output_type": "stream",
     "text": [
      "Health+%26+Fitness\n",
      "Health+%26+Fitness\n",
      "Health+%26+Fitness\n",
      "Health+%26+Fitness\n",
      "Health+%26+Fitness\n",
      "Health+%26+Fitness\n",
      "Health+%26+Fitness\n",
      "Health+%26+Fitness\n",
      "Health+%26+Fitness\n",
      "Health+%26+Fitness\n",
      "Health+%26+Fitness\n",
      "Health+%26+Fitness\n",
      "Health+%26+Fitness\n",
      "Health+%26+Fitness\n",
      "Health+%26+Fitness\n",
      "Health+%26+Fitness\n",
      "Health+%26+Fitness\n",
      "Health+%26+Fitness\n",
      "Health+%26+Fitness\n",
      "Health+%26+Fitness\n",
      "Health+%26+Fitness\n",
      "Health+%26+Fitness\n",
      "Health+%26+Fitness\n",
      "Health+%26+Fitness\n",
      "Health+%26+Fitness\n",
      "Health+%26+Fitness\n",
      "Health+%26+Fitness\n",
      "Health+%26+Fitness\n",
      "Health+%26+Fitness\n",
      "Health+%26+Fitness\n",
      "Health+%26+Fitness\n",
      "Health+%26+Fitness\n",
      "Health+%26+Fitness\n",
      "Health+%26+Fitness\n",
      "Health+%26+Fitness\n",
      "Health+%26+Fitness\n",
      "Health+%26+Fitness\n",
      "Health+%26+Fitness\n",
      "Health+%26+Fitness\n",
      "Health+%26+Fitness\n"
     ]
    },
    {
     "name": "stderr",
     "output_type": "stream",
     "text": [
      "C:\\Users\\weili\\AppData\\Local\\Temp\\ipykernel_16968\\4013873848.py:33: UserWarning: The provided table name 'df_Health+%26+Fitness' is not found exactly as such in the database after writing the table, possibly due to case sensitivity issues. Consider using lower case table names.\n",
      "  df.to_sql(\"df_{}\".format(cat), connection_string, schema='udemy', if_exists='replace', index = False)\n"
     ]
    },
    {
     "name": "stdout",
     "output_type": "stream",
     "text": [
      "IT+%26+Software\n",
      "IT+%26+Software\n",
      "IT+%26+Software\n",
      "IT+%26+Software\n",
      "IT+%26+Software\n",
      "IT+%26+Software\n",
      "IT+%26+Software\n",
      "IT+%26+Software\n",
      "IT+%26+Software\n",
      "IT+%26+Software\n",
      "IT+%26+Software\n",
      "IT+%26+Software\n",
      "IT+%26+Software\n",
      "IT+%26+Software\n",
      "IT+%26+Software\n",
      "IT+%26+Software\n",
      "IT+%26+Software\n",
      "IT+%26+Software\n",
      "IT+%26+Software\n",
      "IT+%26+Software\n",
      "IT+%26+Software\n",
      "IT+%26+Software\n",
      "IT+%26+Software\n",
      "IT+%26+Software\n",
      "IT+%26+Software\n",
      "IT+%26+Software\n",
      "IT+%26+Software\n",
      "IT+%26+Software\n",
      "IT+%26+Software\n",
      "IT+%26+Software\n",
      "IT+%26+Software\n",
      "IT+%26+Software\n",
      "IT+%26+Software\n",
      "IT+%26+Software\n",
      "IT+%26+Software\n",
      "IT+%26+Software\n",
      "IT+%26+Software\n",
      "IT+%26+Software\n",
      "IT+%26+Software\n",
      "IT+%26+Software\n"
     ]
    },
    {
     "name": "stderr",
     "output_type": "stream",
     "text": [
      "C:\\Users\\weili\\AppData\\Local\\Temp\\ipykernel_16968\\4013873848.py:33: UserWarning: The provided table name 'df_IT+%26+Software' is not found exactly as such in the database after writing the table, possibly due to case sensitivity issues. Consider using lower case table names.\n",
      "  df.to_sql(\"df_{}\".format(cat), connection_string, schema='udemy', if_exists='replace', index = False)\n"
     ]
    },
    {
     "name": "stdout",
     "output_type": "stream",
     "text": [
      "Lifestyle\n",
      "Lifestyle\n",
      "Lifestyle\n",
      "Lifestyle\n",
      "Lifestyle\n",
      "Lifestyle\n",
      "Lifestyle\n",
      "Lifestyle\n",
      "Lifestyle\n",
      "Lifestyle\n",
      "Lifestyle\n",
      "Lifestyle\n",
      "Lifestyle\n",
      "Lifestyle\n",
      "Lifestyle\n",
      "Lifestyle\n",
      "Lifestyle\n",
      "Lifestyle\n",
      "Lifestyle\n",
      "Lifestyle\n",
      "Lifestyle\n",
      "Lifestyle\n",
      "Lifestyle\n",
      "Lifestyle\n",
      "Lifestyle\n",
      "Lifestyle\n",
      "Lifestyle\n",
      "Lifestyle\n",
      "Lifestyle\n",
      "Lifestyle\n",
      "Lifestyle\n",
      "Lifestyle\n",
      "Lifestyle\n",
      "Lifestyle\n",
      "Lifestyle\n",
      "Lifestyle\n",
      "Lifestyle\n",
      "Lifestyle\n",
      "Lifestyle\n",
      "Lifestyle\n"
     ]
    },
    {
     "name": "stderr",
     "output_type": "stream",
     "text": [
      "C:\\Users\\weili\\AppData\\Local\\Temp\\ipykernel_16968\\4013873848.py:33: UserWarning: The provided table name 'df_Lifestyle' is not found exactly as such in the database after writing the table, possibly due to case sensitivity issues. Consider using lower case table names.\n",
      "  df.to_sql(\"df_{}\".format(cat), connection_string, schema='udemy', if_exists='replace', index = False)\n"
     ]
    },
    {
     "name": "stdout",
     "output_type": "stream",
     "text": [
      "Music\n",
      "Music\n",
      "Music\n",
      "Music\n",
      "Music\n",
      "Music\n",
      "Music\n",
      "Music\n",
      "Music\n",
      "Music\n",
      "Music\n",
      "Music\n",
      "Music\n",
      "Music\n",
      "Music\n",
      "Music\n",
      "Music\n",
      "Music\n",
      "Music\n",
      "Music\n",
      "Music\n",
      "Music\n",
      "Music\n",
      "Music\n",
      "Music\n",
      "Music\n",
      "Music\n",
      "Music\n",
      "Music\n",
      "Music\n",
      "Music\n",
      "Music\n",
      "Music\n",
      "Music\n",
      "Music\n",
      "Music\n",
      "Music\n",
      "Music\n",
      "Music\n",
      "Music\n"
     ]
    },
    {
     "name": "stderr",
     "output_type": "stream",
     "text": [
      "C:\\Users\\weili\\AppData\\Local\\Temp\\ipykernel_16968\\4013873848.py:33: UserWarning: The provided table name 'df_Music' is not found exactly as such in the database after writing the table, possibly due to case sensitivity issues. Consider using lower case table names.\n",
      "  df.to_sql(\"df_{}\".format(cat), connection_string, schema='udemy', if_exists='replace', index = False)\n"
     ]
    },
    {
     "name": "stdout",
     "output_type": "stream",
     "text": [
      "Office+Productivity\n",
      "Office+Productivity\n",
      "Office+Productivity\n",
      "Office+Productivity\n",
      "Office+Productivity\n",
      "Office+Productivity\n",
      "Office+Productivity\n",
      "Office+Productivity\n",
      "Office+Productivity\n",
      "Office+Productivity\n",
      "Office+Productivity\n",
      "Office+Productivity\n",
      "Office+Productivity\n",
      "Office+Productivity\n",
      "Office+Productivity\n",
      "Office+Productivity\n",
      "Office+Productivity\n",
      "Office+Productivity\n",
      "Office+Productivity\n",
      "Office+Productivity\n"
     ]
    },
    {
     "ename": "IndexError",
     "evalue": "list index out of range",
     "output_type": "error",
     "traceback": [
      "\u001b[1;31m---------------------------------------------------------------------------\u001b[0m",
      "\u001b[1;31mIndexError\u001b[0m                                Traceback (most recent call last)",
      "Cell \u001b[1;32mIn[12], line 1\u001b[0m\n\u001b[1;32m----> 1\u001b[0m df_courses_e \u001b[38;5;241m=\u001b[39m \u001b[43mget_courses_cat1\u001b[49m\u001b[43m(\u001b[49m\u001b[38;5;241;43m11\u001b[39;49m\u001b[43m,\u001b[49m\u001b[38;5;241;43m50\u001b[39;49m\u001b[43m)\u001b[49m\n",
      "Cell \u001b[1;32mIn[11], line 28\u001b[0m, in \u001b[0;36mget_courses_cat1\u001b[1;34m(first_page, last_page)\u001b[0m\n\u001b[0;32m     23\u001b[0m url \u001b[38;5;241m=\u001b[39m \u001b[38;5;124mf\u001b[39m\u001b[38;5;124m'\u001b[39m\u001b[38;5;124mhttps://www.udemy.com/api-2.0/courses/?category=\u001b[39m\u001b[38;5;132;01m{\u001b[39;00mcat\u001b[38;5;132;01m}\u001b[39;00m\u001b[38;5;124m&page=\u001b[39m\u001b[38;5;132;01m{\u001b[39;00mi\u001b[38;5;132;01m}\u001b[39;00m\u001b[38;5;124m&page_size=100&fields[course]=id,title,published_time,\u001b[39m\u001b[38;5;124m'\u001b[39m\\\n\u001b[0;32m     24\u001b[0m \u001b[38;5;124m'\u001b[39m\u001b[38;5;124mnum_subscribers,price,discount,discount_price,avg_rating,avg_rating_recent,num_reviews,num_lectures,num_quizzes,\u001b[39m\u001b[38;5;124m'\u001b[39m\\\n\u001b[0;32m     25\u001b[0m \u001b[38;5;124m'\u001b[39m\u001b[38;5;124mis_practice_test_course,locale,estimated_content_length,primary_category,primary_subcategory,\u001b[39m\u001b[38;5;124m'\u001b[39m\\\n\u001b[0;32m     26\u001b[0m \u001b[38;5;124m'\u001b[39m\u001b[38;5;124minstructional_level_simple,visible_instructors,headline,description,url\u001b[39m\u001b[38;5;124m'\u001b[39m\n\u001b[0;32m     27\u001b[0m course \u001b[38;5;241m=\u001b[39m requests\u001b[38;5;241m.\u001b[39mget(url,auth\u001b[38;5;241m=\u001b[39mauth)\u001b[38;5;241m.\u001b[39mjson()\n\u001b[1;32m---> 28\u001b[0m df_page \u001b[38;5;241m=\u001b[39m \u001b[43mget_df_info\u001b[49m\u001b[43m(\u001b[49m\u001b[43mcourse\u001b[49m\u001b[43m)\u001b[49m\n\u001b[0;32m     29\u001b[0m df \u001b[38;5;241m=\u001b[39m pd\u001b[38;5;241m.\u001b[39mconcat([df_page, df])\n\u001b[0;32m     30\u001b[0m time\u001b[38;5;241m.\u001b[39msleep(\u001b[38;5;241m2\u001b[39m)\n",
      "Cell \u001b[1;32mIn[6], line 29\u001b[0m, in \u001b[0;36mget_df_info\u001b[1;34m(course_data)\u001b[0m\n\u001b[0;32m     26\u001b[0m row[\u001b[38;5;124m'\u001b[39m\u001b[38;5;124mprimary_subcategory\u001b[39m\u001b[38;5;124m'\u001b[39m] \u001b[38;5;241m=\u001b[39m course[\u001b[38;5;124m'\u001b[39m\u001b[38;5;124mprimary_subcategory\u001b[39m\u001b[38;5;124m'\u001b[39m][\u001b[38;5;124m'\u001b[39m\u001b[38;5;124mtitle\u001b[39m\u001b[38;5;124m'\u001b[39m]\n\u001b[0;32m     28\u001b[0m row[\u001b[38;5;124m'\u001b[39m\u001b[38;5;124mlevel\u001b[39m\u001b[38;5;124m'\u001b[39m] \u001b[38;5;241m=\u001b[39m course[\u001b[38;5;124m'\u001b[39m\u001b[38;5;124minstructional_level_simple\u001b[39m\u001b[38;5;124m'\u001b[39m]\n\u001b[1;32m---> 29\u001b[0m row[\u001b[38;5;124m'\u001b[39m\u001b[38;5;124minstructor\u001b[39m\u001b[38;5;124m'\u001b[39m] \u001b[38;5;241m=\u001b[39m \u001b[43mcourse\u001b[49m\u001b[43m[\u001b[49m\u001b[38;5;124;43m'\u001b[39;49m\u001b[38;5;124;43mvisible_instructors\u001b[39;49m\u001b[38;5;124;43m'\u001b[39;49m\u001b[43m]\u001b[49m\u001b[43m[\u001b[49m\u001b[38;5;241;43m0\u001b[39;49m\u001b[43m]\u001b[49m[\u001b[38;5;124m'\u001b[39m\u001b[38;5;124mdisplay_name\u001b[39m\u001b[38;5;124m'\u001b[39m]\n\u001b[0;32m     30\u001b[0m row[\u001b[38;5;124m'\u001b[39m\u001b[38;5;124minstructor_job_title\u001b[39m\u001b[38;5;124m'\u001b[39m] \u001b[38;5;241m=\u001b[39m course[\u001b[38;5;124m'\u001b[39m\u001b[38;5;124mvisible_instructors\u001b[39m\u001b[38;5;124m'\u001b[39m][\u001b[38;5;241m0\u001b[39m][\u001b[38;5;124m'\u001b[39m\u001b[38;5;124mjob_title\u001b[39m\u001b[38;5;124m'\u001b[39m]\n\u001b[0;32m     31\u001b[0m row[\u001b[38;5;124m'\u001b[39m\u001b[38;5;124mheadline\u001b[39m\u001b[38;5;124m'\u001b[39m] \u001b[38;5;241m=\u001b[39m course[\u001b[38;5;124m'\u001b[39m\u001b[38;5;124mheadline\u001b[39m\u001b[38;5;124m'\u001b[39m]\n",
      "\u001b[1;31mIndexError\u001b[0m: list index out of range"
     ]
    }
   ],
   "source": [
    "df_courses_e = get_courses_cat1(11,50)"
   ]
  },
  {
   "cell_type": "code",
   "execution_count": null,
   "id": "aae7404f",
   "metadata": {},
   "outputs": [],
   "source": []
  },
  {
   "cell_type": "code",
   "execution_count": null,
   "id": "2a0e8e60",
   "metadata": {},
   "outputs": [],
   "source": [
    "# Get course reviews"
   ]
  },
  {
   "cell_type": "code",
   "execution_count": 139,
   "id": "e211668f",
   "metadata": {},
   "outputs": [],
   "source": [
    "df_compiled = pd.read_sql(\"SELECT * FROM udemy.df_compiled\", engine)\n",
    "medium_courses = df_compiled[df_compiled['num_subscribers'] >= 10000].sort_values(['num_subscribers'], ascending=True).head(100)\n",
    "top_courses = df_compiled.sort_values(['num_subscribers'], ascending=False).head(100)\n",
    "ids_medium = list(medium_courses['course_id'])\n",
    "ids_top = list(top_courses['course_id'])"
   ]
  },
  {
   "cell_type": "code",
   "execution_count": null,
   "id": "4cbb7073",
   "metadata": {},
   "outputs": [],
   "source": []
  },
  {
   "cell_type": "code",
   "execution_count": 122,
   "id": "8239594e",
   "metadata": {},
   "outputs": [
    {
     "name": "stdout",
     "output_type": "stream",
     "text": [
      "2245856\n",
      "4544060\n",
      "84085\n",
      "5307690\n",
      "1474372\n",
      "4751096\n",
      "1400182\n",
      "2613130\n",
      "2476226\n",
      "2377826\n",
      "3084582\n",
      "1335866\n",
      "1116196\n",
      "3726470\n",
      "2126948\n",
      "1090700\n",
      "2843784\n",
      "4230454\n",
      "674982\n",
      "2069451\n",
      "1790584\n",
      "2195846\n",
      "2245896\n",
      "1054970\n",
      "164958\n",
      "4572510\n",
      "5124570\n",
      "4806466\n",
      "1204784\n",
      "2266746\n",
      "3806774\n",
      "1152486\n",
      "4874234\n",
      "1747820\n",
      "3618502\n",
      "4462360\n",
      "25671\n",
      "3321318\n",
      "2361148\n",
      "1333372\n",
      "4481730\n",
      "465334\n",
      "33215\n",
      "349334\n",
      "1442960\n",
      "1420280\n",
      "1804654\n",
      "835878\n",
      "3481152\n",
      "1409860\n",
      "309908\n",
      "3185832\n",
      "3181796\n",
      "1362338\n",
      "840958\n",
      "2019474\n",
      "1222364\n",
      "4688270\n",
      "977668\n",
      "1775452\n",
      "4587280\n",
      "4149968\n",
      "914220\n",
      "2360166\n",
      "763258\n",
      "3756876\n",
      "2214444\n",
      "2548797\n",
      "2405916\n",
      "628786\n",
      "58838\n",
      "1824622\n",
      "3075394\n",
      "1747836\n",
      "1414568\n",
      "905286\n",
      "542748\n",
      "1610356\n",
      "1107870\n",
      "448830\n",
      "2381903\n",
      "4339776\n",
      "606590\n",
      "3897010\n",
      "5037450\n",
      "3990790\n",
      "2419768\n",
      "2197122\n",
      "2300050\n",
      "1470278\n",
      "1434318\n",
      "343262\n",
      "4103280\n",
      "2133816\n",
      "2458906\n",
      "1913646\n",
      "1423634\n",
      "4707388\n",
      "353158\n",
      "4256776\n"
     ]
    }
   ],
   "source": [
    "reviews_medium = get_reviews(ids_medium,1,1) # get reviews for courses with num_subscribers > 10000"
   ]
  },
  {
   "cell_type": "code",
   "execution_count": 123,
   "id": "f1784a76",
   "metadata": {},
   "outputs": [
    {
     "data": {
      "text/plain": [
       "9190"
      ]
     },
     "execution_count": 123,
     "metadata": {},
     "output_type": "execute_result"
    }
   ],
   "source": [
    "pw = os.getenv('mysql')\n",
    "connection_string = 'mysql+pymysql://root:' + pw + '@localhost:3306/'\n",
    "engine = create_engine(connection_string)\n",
    "reviews_medium.to_sql(\"df_reviews_medium\", connection_string, schema='udemy', if_exists='replace', index = False)"
   ]
  },
  {
   "cell_type": "code",
   "execution_count": null,
   "id": "64b2a1ac",
   "metadata": {},
   "outputs": [],
   "source": []
  },
  {
   "cell_type": "code",
   "execution_count": 146,
   "id": "f31f3c85",
   "metadata": {},
   "outputs": [],
   "source": [
    "ids_top_a = ids_top[0:50] #Getting first batch of reviews for most popular courses"
   ]
  },
  {
   "cell_type": "code",
   "execution_count": 147,
   "id": "f6b70ebd",
   "metadata": {},
   "outputs": [
    {
     "name": "stdout",
     "output_type": "stream",
     "text": [
      "24823\n",
      "543600\n",
      "1565838\n",
      "950390\n",
      "433798\n",
      "625204\n",
      "851712\n",
      "1362070\n",
      "473160\n",
      "247190\n",
      "146156\n",
      "53600\n",
      "2707184\n",
      "552672\n",
      "1137162\n",
      "648826\n",
      "437398\n",
      "707962\n",
      "133536\n",
      "238934\n",
      "387820\n",
      "2394982\n",
      "405926\n",
      "1325686\n",
      "937678\n",
      "1462428\n",
      "605006\n",
      "192004\n",
      "9711\n",
      "917596\n",
      "797156\n",
      "3726582\n",
      "466000\n",
      "1331946\n",
      "11331\n",
      "399938\n",
      "1415652\n",
      "1189136\n",
      "1731874\n",
      "594360\n",
      "2027098\n",
      "3033186\n",
      "1793828\n",
      "1495788\n",
      "42271\n",
      "22169\n",
      "3105814\n",
      "3434032\n",
      "780078\n",
      "1708340\n"
     ]
    }
   ],
   "source": [
    "reviews_top_a = get_reviews(ids_top_a,1,10)"
   ]
  },
  {
   "cell_type": "code",
   "execution_count": 148,
   "id": "aa0af338",
   "metadata": {},
   "outputs": [
    {
     "data": {
      "text/plain": [
       "50000"
      ]
     },
     "execution_count": 148,
     "metadata": {},
     "output_type": "execute_result"
    }
   ],
   "source": [
    "pw = os.getenv('mysql')\n",
    "connection_string = 'mysql+pymysql://root:' + pw + '@localhost:3306/'\n",
    "engine = create_engine(connection_string)\n",
    "reviews_top_a.to_sql(\"df_reviews_top_a\", connection_string, schema='udemy', if_exists='replace', index = False)"
   ]
  },
  {
   "cell_type": "code",
   "execution_count": null,
   "id": "0f891c16",
   "metadata": {},
   "outputs": [],
   "source": []
  },
  {
   "cell_type": "code",
   "execution_count": 150,
   "id": "3dc553fb",
   "metadata": {},
   "outputs": [],
   "source": [
    "ids_top_b = ids_top[50:100] # Getting second batch of review for most popular courses"
   ]
  },
  {
   "cell_type": "code",
   "execution_count": 151,
   "id": "d88e1d02",
   "metadata": {},
   "outputs": [
    {
     "name": "stdout",
     "output_type": "stream",
     "text": [
      "3011572\n",
      "584648\n",
      "130064\n",
      "2769314\n",
      "173548\n",
      "1703802\n",
      "1351634\n",
      "3663284\n",
      "171838\n",
      "2795746\n",
      "3033182\n",
      "3033110\n",
      "2861796\n",
      "333610\n",
      "1879018\n",
      "65330\n",
      "673654\n",
      "2310306\n",
      "500632\n",
      "591930\n",
      "382002\n",
      "15639\n",
      "3559007\n",
      "2410958\n",
      "1704776\n",
      "1643044\n",
      "3617896\n",
      "39115\n",
      "1920686\n",
      "217000\n",
      "671544\n",
      "311538\n",
      "25584\n",
      "236676\n",
      "2602724\n",
      "1917546\n",
      "38282\n",
      "751094\n",
      "3694430\n",
      "888716\n",
      "74092\n",
      "775330\n",
      "2971820\n",
      "366280\n",
      "580342\n",
      "3406388\n",
      "1759114\n",
      "3213441\n",
      "151198\n",
      "3833784\n"
     ]
    }
   ],
   "source": [
    "reviews_top_b = get_reviews(ids_top_b,1,10)"
   ]
  },
  {
   "cell_type": "code",
   "execution_count": 152,
   "id": "88994272",
   "metadata": {},
   "outputs": [
    {
     "data": {
      "text/plain": [
       "50000"
      ]
     },
     "execution_count": 152,
     "metadata": {},
     "output_type": "execute_result"
    }
   ],
   "source": [
    "pw = os.getenv('mysql')\n",
    "connection_string = 'mysql+pymysql://root:' + pw + '@localhost:3306/'\n",
    "engine = create_engine(connection_string)\n",
    "reviews_top_b.to_sql(\"df_reviews_top_b\", connection_string, schema='udemy', if_exists='replace', index = False)"
   ]
  },
  {
   "cell_type": "code",
   "execution_count": null,
   "id": "dd4acfe7",
   "metadata": {},
   "outputs": [],
   "source": []
  },
  {
   "cell_type": "code",
   "execution_count": 16,
   "id": "8fafbde5",
   "metadata": {},
   "outputs": [
    {
     "data": {
      "text/plain": [
       "{'count': 10000,\n",
       " 'next': None,\n",
       " 'previous': None,\n",
       " 'results': [{'_class': 'course_review',\n",
       "   'id': 151272944,\n",
       "   'content': 'good',\n",
       "   'rating': 5.0,\n",
       "   'created': '2023-08-23T23:19:48-07:00',\n",
       "   'modified': '2023-08-24T16:01:52-07:00',\n",
       "   'user_modified': '2023-08-24T05:31:23-07:00',\n",
       "   'user': {'_class': 'user',\n",
       "    'title': 'Omkar Deshpande',\n",
       "    'name': 'Omkar',\n",
       "    'display_name': 'Omkar Deshpande'}},\n",
       "  {'_class': 'course_review',\n",
       "   'id': 151272186,\n",
       "   'content': '',\n",
       "   'rating': 4.0,\n",
       "   'created': '2023-08-23T23:09:17-07:00',\n",
       "   'modified': '2023-08-24T16:01:52-07:00',\n",
       "   'user_modified': '2023-08-23T23:09:18-07:00',\n",
       "   'user': {'_class': 'user',\n",
       "    'title': 'Insane Flick',\n",
       "    'name': 'Insane',\n",
       "    'display_name': 'Insane Flick'}},\n",
       "  {'_class': 'course_review',\n",
       "   'id': 151268352,\n",
       "   'content': '',\n",
       "   'rating': 4.0,\n",
       "   'created': '2023-08-23T22:09:11-07:00',\n",
       "   'modified': '2023-08-24T16:01:52-07:00',\n",
       "   'user_modified': '2023-08-23T22:09:17-07:00',\n",
       "   'user': {'_class': 'user',\n",
       "    'title': 'Man Rajkotiya',\n",
       "    'name': 'Man',\n",
       "    'display_name': 'Man Rajkotiya'}},\n",
       "  {'_class': 'course_review',\n",
       "   'id': 151266578,\n",
       "   'content': '',\n",
       "   'rating': 4.5,\n",
       "   'created': '2023-08-23T21:34:32-07:00',\n",
       "   'modified': '2023-08-24T16:01:52-07:00',\n",
       "   'user_modified': '2023-08-23T21:34:33-07:00',\n",
       "   'user': {'_class': 'user',\n",
       "    'title': 'BHAVANA GEMBALI',\n",
       "    'name': 'BHAVANA',\n",
       "    'display_name': 'BHAVANA GEMBALI'}},\n",
       "  {'_class': 'course_review',\n",
       "   'id': 151266534,\n",
       "   'content': '',\n",
       "   'rating': 5.0,\n",
       "   'created': '2023-08-23T21:33:35-07:00',\n",
       "   'modified': '2023-08-24T16:01:52-07:00',\n",
       "   'user_modified': '2023-08-23T21:33:37-07:00',\n",
       "   'user': {'_class': 'user',\n",
       "    'title': 'Aditya Panem',\n",
       "    'name': 'Aditya',\n",
       "    'display_name': 'Aditya Panem'}},\n",
       "  {'_class': 'course_review',\n",
       "   'id': 151253762,\n",
       "   'content': '',\n",
       "   'rating': 5.0,\n",
       "   'created': '2023-08-23T16:46:04-07:00',\n",
       "   'modified': '2023-08-24T16:07:01-07:00',\n",
       "   'user_modified': '2023-08-23T16:46:06-07:00',\n",
       "   'user': {'_class': 'user',\n",
       "    'title': 'Yulgun Kaiser',\n",
       "    'name': 'Yulgun',\n",
       "    'display_name': 'Yulgun Kaiser'}},\n",
       "  {'_class': 'course_review',\n",
       "   'id': 151250936,\n",
       "   'content': '',\n",
       "   'rating': 4.5,\n",
       "   'created': '2023-08-23T15:38:52-07:00',\n",
       "   'modified': '2023-08-24T16:07:02-07:00',\n",
       "   'user_modified': '2023-08-23T15:38:53-07:00',\n",
       "   'user': {'_class': 'user',\n",
       "    'title': 'John Heaven',\n",
       "    'name': 'John',\n",
       "    'display_name': 'John Heaven'}},\n",
       "  {'_class': 'course_review',\n",
       "   'id': 151224202,\n",
       "   'content': '',\n",
       "   'rating': 4.0,\n",
       "   'created': '2023-08-23T09:15:40-07:00',\n",
       "   'modified': '2023-08-24T16:07:02-07:00',\n",
       "   'user_modified': '2023-08-23T09:15:51-07:00',\n",
       "   'user': {'_class': 'user',\n",
       "    'title': 'Marco Carrasco',\n",
       "    'name': 'Marco',\n",
       "    'display_name': 'Marco Carrasco'}},\n",
       "  {'_class': 'course_review',\n",
       "   'id': 151212038,\n",
       "   'content': '',\n",
       "   'rating': 5.0,\n",
       "   'created': '2023-08-23T07:02:59-07:00',\n",
       "   'modified': '2023-08-24T16:07:03-07:00',\n",
       "   'user_modified': '2023-08-23T07:07:51-07:00',\n",
       "   'user': {'_class': 'user',\n",
       "    'title': 'Swathi Saginaboina',\n",
       "    'name': 'Swathi',\n",
       "    'display_name': 'Swathi Saginaboina'}},\n",
       "  {'_class': 'course_review',\n",
       "   'id': 151200470,\n",
       "   'content': '',\n",
       "   'rating': 4.0,\n",
       "   'created': '2023-08-23T04:53:41-07:00',\n",
       "   'modified': '2023-08-24T16:11:10-07:00',\n",
       "   'user_modified': '2023-08-23T04:53:42-07:00',\n",
       "   'user': {'_class': 'user',\n",
       "    'title': 'Gary Spencer',\n",
       "    'name': 'Gary',\n",
       "    'display_name': 'Gary Spencer'}}]}"
      ]
     },
     "execution_count": 16,
     "metadata": {},
     "output_type": "execute_result"
    }
   ],
   "source": [
    "udemy.course_reviews(24823)"
   ]
  },
  {
   "cell_type": "code",
   "execution_count": null,
   "id": "f57a5e20",
   "metadata": {},
   "outputs": [],
   "source": []
  },
  {
   "cell_type": "code",
   "execution_count": null,
   "id": "eeb7132f",
   "metadata": {},
   "outputs": [],
   "source": [
    "# Getting curricula for courses with num_subscribers > 10000"
   ]
  },
  {
   "cell_type": "code",
   "execution_count": 204,
   "id": "b267dfdc",
   "metadata": {},
   "outputs": [
    {
     "name": "stdout",
     "output_type": "stream",
     "text": [
      "2245856\n",
      "4544060\n",
      "84085\n",
      "5307690\n",
      "1474372\n",
      "4751096\n",
      "1400182\n",
      "2613130\n",
      "2476226\n",
      "2377826\n",
      "3084582\n",
      "1335866\n",
      "1116196\n",
      "3726470\n",
      "2126948\n",
      "1090700\n",
      "2843784\n",
      "4230454\n",
      "674982\n",
      "2069451\n",
      "1790584\n",
      "2195846\n",
      "2245896\n",
      "1054970\n",
      "164958\n",
      "4572510\n",
      "5124570\n",
      "4806466\n",
      "1204784\n",
      "2266746\n",
      "3806774\n",
      "1152486\n",
      "4874234\n",
      "1747820\n",
      "3618502\n",
      "4462360\n",
      "25671\n",
      "3321318\n",
      "2361148\n",
      "1333372\n",
      "4481730\n",
      "465334\n",
      "33215\n",
      "349334\n",
      "1442960\n",
      "1420280\n",
      "1804654\n",
      "835878\n",
      "3481152\n",
      "1409860\n",
      "309908\n",
      "3185832\n",
      "3181796\n",
      "1362338\n",
      "840958\n",
      "2019474\n",
      "1222364\n",
      "4688270\n",
      "977668\n",
      "1775452\n",
      "4587280\n",
      "4149968\n",
      "914220\n",
      "2360166\n",
      "763258\n",
      "3756876\n",
      "2214444\n",
      "2548797\n",
      "2405916\n",
      "628786\n",
      "58838\n",
      "1824622\n",
      "3075394\n",
      "1747836\n",
      "1414568\n",
      "905286\n",
      "542748\n",
      "1610356\n",
      "1107870\n",
      "448830\n",
      "2381903\n",
      "4339776\n",
      "606590\n",
      "3897010\n",
      "5037450\n",
      "3990790\n",
      "2419768\n",
      "2197122\n",
      "2300050\n",
      "1470278\n",
      "1434318\n",
      "343262\n",
      "4103280\n",
      "2133816\n",
      "2458906\n",
      "1913646\n",
      "1423634\n",
      "4707388\n",
      "353158\n",
      "4256776\n"
     ]
    }
   ],
   "source": [
    "curricula_medium = get_curricula(ids_medium,1,1)"
   ]
  },
  {
   "cell_type": "code",
   "execution_count": 206,
   "id": "f8c85d0c",
   "metadata": {},
   "outputs": [
    {
     "data": {
      "text/plain": [
       "100"
      ]
     },
     "execution_count": 206,
     "metadata": {},
     "output_type": "execute_result"
    }
   ],
   "source": [
    "pw = os.getenv('mysql')\n",
    "connection_string = 'mysql+pymysql://root:' + pw + '@localhost:3306/'\n",
    "engine = create_engine(connection_string)\n",
    "curricula_medium.to_sql(\"df_curricula_medium\", connection_string, schema='udemy', if_exists='replace', index = False)"
   ]
  },
  {
   "cell_type": "code",
   "execution_count": null,
   "id": "5005ea2f",
   "metadata": {},
   "outputs": [],
   "source": []
  },
  {
   "cell_type": "code",
   "execution_count": 207,
   "id": "864c6e9d",
   "metadata": {},
   "outputs": [
    {
     "name": "stdout",
     "output_type": "stream",
     "text": [
      "24823\n",
      "543600\n",
      "1565838\n",
      "950390\n",
      "433798\n",
      "625204\n",
      "851712\n",
      "1362070\n",
      "473160\n",
      "247190\n",
      "146156\n",
      "53600\n",
      "2707184\n",
      "552672\n",
      "1137162\n",
      "648826\n",
      "437398\n",
      "707962\n",
      "133536\n",
      "238934\n",
      "387820\n",
      "2394982\n",
      "405926\n",
      "1325686\n",
      "937678\n",
      "1462428\n",
      "605006\n",
      "192004\n",
      "9711\n",
      "917596\n",
      "797156\n",
      "3726582\n",
      "466000\n",
      "1331946\n",
      "11331\n",
      "399938\n",
      "1415652\n",
      "1189136\n",
      "1731874\n",
      "594360\n",
      "2027098\n",
      "3033186\n",
      "1793828\n",
      "1495788\n",
      "42271\n",
      "22169\n",
      "3105814\n",
      "3434032\n",
      "780078\n",
      "1708340\n",
      "3011572\n",
      "584648\n",
      "130064\n",
      "2769314\n",
      "173548\n",
      "1703802\n",
      "1351634\n",
      "3663284\n",
      "171838\n",
      "2795746\n",
      "3033182\n",
      "3033110\n",
      "2861796\n",
      "333610\n",
      "1879018\n",
      "65330\n",
      "673654\n",
      "2310306\n",
      "500632\n",
      "591930\n",
      "382002\n",
      "15639\n",
      "3559007\n",
      "2410958\n",
      "1704776\n",
      "1643044\n",
      "3617896\n",
      "39115\n",
      "1920686\n",
      "217000\n",
      "671544\n",
      "311538\n",
      "25584\n",
      "236676\n",
      "2602724\n",
      "1917546\n",
      "38282\n",
      "751094\n",
      "3694430\n",
      "888716\n",
      "74092\n",
      "775330\n",
      "2971820\n",
      "366280\n",
      "580342\n",
      "3406388\n",
      "1759114\n",
      "3213441\n",
      "151198\n",
      "3833784\n"
     ]
    }
   ],
   "source": [
    "curricula_top = get_curricula(ids_top,1,1) # Getting curricula for most popular courses"
   ]
  },
  {
   "cell_type": "code",
   "execution_count": 208,
   "id": "83398d9f",
   "metadata": {},
   "outputs": [
    {
     "data": {
      "text/plain": [
       "100"
      ]
     },
     "execution_count": 208,
     "metadata": {},
     "output_type": "execute_result"
    }
   ],
   "source": [
    "pw = os.getenv('mysql')\n",
    "connection_string = 'mysql+pymysql://root:' + pw + '@localhost:3306/'\n",
    "engine = create_engine(connection_string)\n",
    "curricula_top.to_sql(\"df_curricula_top\", connection_string, schema='udemy', if_exists='replace', index = False)"
   ]
  },
  {
   "cell_type": "code",
   "execution_count": null,
   "id": "13c31f68",
   "metadata": {},
   "outputs": [],
   "source": []
  },
  {
   "cell_type": "code",
   "execution_count": null,
   "id": "3feee8a5",
   "metadata": {},
   "outputs": [],
   "source": []
  },
  {
   "cell_type": "code",
   "execution_count": null,
   "id": "2317f091",
   "metadata": {},
   "outputs": [],
   "source": [
    "# Select and concatenate relevant tables for storage in udemy_final"
   ]
  },
  {
   "cell_type": "code",
   "execution_count": 209,
   "id": "d6471d52",
   "metadata": {},
   "outputs": [],
   "source": [
    "compiled = pd.read_sql(\"SELECT * FROM udemy.df_compiled\", engine)\n",
    "\n",
    "top_a = pd.read_sql(\"SELECT * FROM udemy.df_reviews_top_a\", engine)\n",
    "\n",
    "top_b = pd.read_sql(\"SELECT * FROM udemy.df_reviews_top_b\", engine)\n",
    "\n",
    "medium = pd.read_sql(\"SELECT * FROM udemy.df_reviews_medium\", engine)\n",
    "\n",
    "curricula_t = pd.read_sql(\"SELECT * FROM udemy.df_curricula_top\", engine)\n",
    "\n",
    "curricula_m = pd.read_sql(\"SELECT * FROM udemy.df_curricula_medium\", engine)"
   ]
  },
  {
   "cell_type": "code",
   "execution_count": 210,
   "id": "05388f49",
   "metadata": {},
   "outputs": [],
   "source": [
    "reviews_top = pd.concat([top_a,top_b])"
   ]
  },
  {
   "cell_type": "code",
   "execution_count": 213,
   "id": "7b11f7c4",
   "metadata": {},
   "outputs": [
    {
     "data": {
      "text/plain": [
       "100"
      ]
     },
     "execution_count": 213,
     "metadata": {},
     "output_type": "execute_result"
    }
   ],
   "source": [
    "pw = os.getenv('mysql')\n",
    "connection_string = 'mysql+pymysql://root:' + pw + '@localhost:3306/'\n",
    "engine = create_engine(connection_string)\n",
    "compiled.to_sql(\"course_list\", connection_string, schema='udemy_final', if_exists='replace', index = False)\n",
    "\n",
    "reviews_top.to_sql(\"reviews_group1\", connection_string, schema='udemy_final', if_exists='replace', index = False)\n",
    "\n",
    "medium.to_sql(\"reviews_group2\", connection_string, schema='udemy_final', if_exists='replace', index = False)\n",
    "\n",
    "curricula_t.to_sql(\"curricula_group1\", connection_string, schema='udemy_final', if_exists='replace', index = False)\n",
    "\n",
    "curricula_m.to_sql(\"curricula_group2\", connection_string, schema='udemy_final', if_exists='replace', index = False)"
   ]
  },
  {
   "cell_type": "code",
   "execution_count": null,
   "id": "c1889a8e",
   "metadata": {},
   "outputs": [],
   "source": []
  }
 ],
 "metadata": {
  "kernelspec": {
   "display_name": "Python 3 (ipykernel)",
   "language": "python",
   "name": "python3"
  },
  "language_info": {
   "codemirror_mode": {
    "name": "ipython",
    "version": 3
   },
   "file_extension": ".py",
   "mimetype": "text/x-python",
   "name": "python",
   "nbconvert_exporter": "python",
   "pygments_lexer": "ipython3",
   "version": "3.10.9"
  }
 },
 "nbformat": 4,
 "nbformat_minor": 5
}

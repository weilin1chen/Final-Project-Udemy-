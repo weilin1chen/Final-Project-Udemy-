{
 "cells": [
  {
   "cell_type": "code",
   "execution_count": 1,
   "id": "0736fe22",
   "metadata": {},
   "outputs": [],
   "source": [
    "import numpy as np\n",
    "import pandas as pd\n",
    "import os\n",
    "from sqlalchemy import create_engine\n",
    "import seaborn as sns\n",
    "import pytz\n",
    "import datetime\n",
    "from bs4 import BeautifulSoup"
   ]
  },
  {
   "cell_type": "code",
   "execution_count": 2,
   "id": "e509ac09",
   "metadata": {},
   "outputs": [],
   "source": [
    "pw = os.getenv('mysql')\n",
    "connection_string = 'mysql+pymysql://root:' + pw + '@localhost:3306/'\n",
    "engine = create_engine(connection_string)"
   ]
  },
  {
   "cell_type": "code",
   "execution_count": 3,
   "id": "abbd0f09",
   "metadata": {},
   "outputs": [],
   "source": [
    "def remove_html(text):\n",
    "    soup = BeautifulSoup(text,'html.parser')\n",
    "    return soup.get_text()"
   ]
  },
  {
   "cell_type": "markdown",
   "id": "340ec0c7",
   "metadata": {},
   "source": [
    "### Data cleaning and preparation of Course List"
   ]
  },
  {
   "cell_type": "code",
   "execution_count": 4,
   "id": "87b58ee6",
   "metadata": {},
   "outputs": [],
   "source": [
    "df_a = pd.read_sql(\"SELECT * FROM udemy.df_courses_a\", engine)\n",
    "df_b = pd.read_sql(\"SELECT * FROM udemy.df_courses_b\", engine)\n",
    "df_c = pd.read_sql(\"SELECT * FROM udemy.df_courses_c\", engine)\n",
    "df_d = pd.read_sql(\"SELECT * FROM udemy.df_courses_d\", engine)\n",
    "df_music = pd.read_sql(\"SELECT * FROM udemy.df_music\", engine)"
   ]
  },
  {
   "cell_type": "code",
   "execution_count": null,
   "id": "4f6448b0",
   "metadata": {},
   "outputs": [],
   "source": []
  },
  {
   "cell_type": "code",
   "execution_count": 5,
   "id": "8a97d88c",
   "metadata": {},
   "outputs": [],
   "source": [
    "# Concatenate all the dfs"
   ]
  },
  {
   "cell_type": "code",
   "execution_count": 6,
   "id": "3b6c99d1",
   "metadata": {},
   "outputs": [],
   "source": [
    "course_list = pd.concat([df_a,df_b,df_c,df_d,df_music])"
   ]
  },
  {
   "cell_type": "code",
   "execution_count": 7,
   "id": "f572f53d",
   "metadata": {},
   "outputs": [
    {
     "data": {
      "text/plain": [
       "(52214, 23)"
      ]
     },
     "execution_count": 7,
     "metadata": {},
     "output_type": "execute_result"
    }
   ],
   "source": [
    "course_list.shape"
   ]
  },
  {
   "cell_type": "code",
   "execution_count": 8,
   "id": "a1c1399a",
   "metadata": {},
   "outputs": [],
   "source": [
    "# Drop duplicates"
   ]
  },
  {
   "cell_type": "code",
   "execution_count": 9,
   "id": "876030ac",
   "metadata": {},
   "outputs": [],
   "source": [
    "course_list = course_list.drop_duplicates(subset='course_id')"
   ]
  },
  {
   "cell_type": "code",
   "execution_count": 10,
   "id": "1c5950c0",
   "metadata": {},
   "outputs": [
    {
     "data": {
      "text/plain": [
       "0"
      ]
     },
     "execution_count": 10,
     "metadata": {},
     "output_type": "execute_result"
    }
   ],
   "source": [
    "course_list['course_id'].duplicated().sum()"
   ]
  },
  {
   "cell_type": "code",
   "execution_count": 11,
   "id": "3107ba3b",
   "metadata": {},
   "outputs": [],
   "source": [
    "# drop the Discount and Discount Price columns"
   ]
  },
  {
   "cell_type": "code",
   "execution_count": 12,
   "id": "0b6f8303",
   "metadata": {},
   "outputs": [],
   "source": [
    "course_list = course_list.drop(['discount','discount_price'], axis=1)"
   ]
  },
  {
   "cell_type": "code",
   "execution_count": 13,
   "id": "1ba9b45b",
   "metadata": {},
   "outputs": [],
   "source": [
    "# drop null values"
   ]
  },
  {
   "cell_type": "code",
   "execution_count": 14,
   "id": "4b7b6739",
   "metadata": {},
   "outputs": [
    {
     "data": {
      "text/plain": [
       "course_id                  0\n",
       "title                      0\n",
       "published_time             0\n",
       "num_subscribers            0\n",
       "price                      0\n",
       "avg_rating                 0\n",
       "avg_recent_rating          0\n",
       "num_reviews                0\n",
       "num_lectures               0\n",
       "num_quizzes                0\n",
       "is_practice_test_course    0\n",
       "language                   0\n",
       "content_length             0\n",
       "primary_category           0\n",
       "primary_subcategory        0\n",
       "level                      0\n",
       "instructor                 0\n",
       "instructor_job_title       5\n",
       "headline                   0\n",
       "description                0\n",
       "url                        0\n",
       "dtype: int64"
      ]
     },
     "execution_count": 14,
     "metadata": {},
     "output_type": "execute_result"
    }
   ],
   "source": [
    "course_list.isna().sum()"
   ]
  },
  {
   "cell_type": "code",
   "execution_count": 15,
   "id": "204f97b0",
   "metadata": {},
   "outputs": [],
   "source": [
    "course_list = course_list.dropna()"
   ]
  },
  {
   "cell_type": "code",
   "execution_count": 16,
   "id": "8d5dfbda",
   "metadata": {},
   "outputs": [
    {
     "data": {
      "text/plain": [
       "0"
      ]
     },
     "execution_count": 16,
     "metadata": {},
     "output_type": "execute_result"
    }
   ],
   "source": [
    "course_list.isna().sum().sum()"
   ]
  },
  {
   "cell_type": "code",
   "execution_count": 17,
   "id": "22a10a0b",
   "metadata": {},
   "outputs": [
    {
     "data": {
      "text/plain": [
       "(39512, 21)"
      ]
     },
     "execution_count": 17,
     "metadata": {},
     "output_type": "execute_result"
    }
   ],
   "source": [
    "course_list.shape"
   ]
  },
  {
   "cell_type": "code",
   "execution_count": 18,
   "id": "af4c71c1",
   "metadata": {},
   "outputs": [],
   "source": [
    "# Check Data Types"
   ]
  },
  {
   "cell_type": "code",
   "execution_count": 19,
   "id": "f8edfb34",
   "metadata": {},
   "outputs": [
    {
     "data": {
      "text/plain": [
       "course_id                    int64\n",
       "title                       object\n",
       "published_time              object\n",
       "num_subscribers              int64\n",
       "price                       object\n",
       "avg_rating                 float64\n",
       "avg_recent_rating          float64\n",
       "num_reviews                  int64\n",
       "num_lectures                 int64\n",
       "num_quizzes                  int64\n",
       "is_practice_test_course      int64\n",
       "language                    object\n",
       "content_length               int64\n",
       "primary_category            object\n",
       "primary_subcategory         object\n",
       "level                       object\n",
       "instructor                  object\n",
       "instructor_job_title        object\n",
       "headline                    object\n",
       "description                 object\n",
       "url                         object\n",
       "dtype: object"
      ]
     },
     "execution_count": 19,
     "metadata": {},
     "output_type": "execute_result"
    }
   ],
   "source": [
    "course_list.dtypes # Need to correct published_time,price,is_practice_test_course"
   ]
  },
  {
   "cell_type": "code",
   "execution_count": 20,
   "id": "da7bb833",
   "metadata": {},
   "outputs": [],
   "source": [
    "# correct published_time column"
   ]
  },
  {
   "cell_type": "code",
   "execution_count": 21,
   "id": "d0eb347c",
   "metadata": {},
   "outputs": [],
   "source": [
    "course_list['published_time'] = pd.to_datetime(course_list['published_time'])"
   ]
  },
  {
   "cell_type": "code",
   "execution_count": 22,
   "id": "e1a9c38e",
   "metadata": {},
   "outputs": [
    {
     "data": {
      "text/plain": [
       "datetime64[ns, UTC]"
      ]
     },
     "execution_count": 22,
     "metadata": {},
     "output_type": "execute_result"
    }
   ],
   "source": [
    "course_list['published_time'].dtypes"
   ]
  },
  {
   "cell_type": "code",
   "execution_count": 23,
   "id": "e2ad6bcb",
   "metadata": {},
   "outputs": [],
   "source": [
    "# correct price column"
   ]
  },
  {
   "cell_type": "code",
   "execution_count": 24,
   "id": "a5aa3d58",
   "metadata": {},
   "outputs": [],
   "source": [
    "course_list['price'] = course_list['price'].str.replace('€','').replace('Free',0.00).astype(float)"
   ]
  },
  {
   "cell_type": "code",
   "execution_count": 25,
   "id": "9e40ca1d",
   "metadata": {},
   "outputs": [],
   "source": [
    "# correct is_practice_test_course column"
   ]
  },
  {
   "cell_type": "code",
   "execution_count": 26,
   "id": "76e5ea56",
   "metadata": {},
   "outputs": [],
   "source": [
    "course_list['is_practice_test_course'] = course_list['is_practice_test_course'].astype(bool)"
   ]
  },
  {
   "cell_type": "code",
   "execution_count": null,
   "id": "623a5040",
   "metadata": {},
   "outputs": [],
   "source": []
  },
  {
   "cell_type": "code",
   "execution_count": 27,
   "id": "92ea880d",
   "metadata": {},
   "outputs": [],
   "source": [
    "# add months_since_created column"
   ]
  },
  {
   "cell_type": "code",
   "execution_count": 28,
   "id": "62481a70",
   "metadata": {},
   "outputs": [],
   "source": [
    "time_zone = pytz.timezone('UTC')"
   ]
  },
  {
   "cell_type": "code",
   "execution_count": 29,
   "id": "f3069008",
   "metadata": {},
   "outputs": [],
   "source": [
    "current_time = datetime.datetime.now(time_zone)"
   ]
  },
  {
   "cell_type": "code",
   "execution_count": 30,
   "id": "1e7a7def",
   "metadata": {},
   "outputs": [],
   "source": [
    "course_list['months_since_created'] = round((current_time - course_list['published_time']).dt.days/30, 2)"
   ]
  },
  {
   "cell_type": "code",
   "execution_count": null,
   "id": "0cb483c9",
   "metadata": {},
   "outputs": [],
   "source": []
  },
  {
   "cell_type": "code",
   "execution_count": 31,
   "id": "1f2eda23",
   "metadata": {},
   "outputs": [],
   "source": [
    "course_list['published_time'] = course_list['published_time'].dt.date"
   ]
  },
  {
   "cell_type": "code",
   "execution_count": null,
   "id": "59917d32",
   "metadata": {},
   "outputs": [],
   "source": []
  },
  {
   "cell_type": "code",
   "execution_count": 32,
   "id": "55125acd",
   "metadata": {},
   "outputs": [],
   "source": [
    "# create num_subscribers_monthly column"
   ]
  },
  {
   "cell_type": "code",
   "execution_count": 33,
   "id": "b9781ac2",
   "metadata": {},
   "outputs": [],
   "source": [
    "course_list['num_subscribers_monthly'] = round(course_list['num_subscribers']/course_list['months_since_created'])"
   ]
  },
  {
   "cell_type": "code",
   "execution_count": 34,
   "id": "064eb6fb",
   "metadata": {},
   "outputs": [],
   "source": [
    "# Clean categorical data in Description column"
   ]
  },
  {
   "cell_type": "code",
   "execution_count": 35,
   "id": "73442db9",
   "metadata": {},
   "outputs": [],
   "source": [
    "course_list['description'] = course_list['description'].apply(remove_html)"
   ]
  },
  {
   "cell_type": "code",
   "execution_count": 36,
   "id": "1f73321c",
   "metadata": {},
   "outputs": [],
   "source": [
    "# Fill blank value in 'level' column"
   ]
  },
  {
   "cell_type": "code",
   "execution_count": 37,
   "id": "027ae2e9",
   "metadata": {},
   "outputs": [],
   "source": [
    "course_list['level'] = course_list['level'].replace('','All Levels')"
   ]
  },
  {
   "cell_type": "markdown",
   "id": "05de1b6f",
   "metadata": {},
   "source": [
    "### Data cleaning and preparation of Course Reviews"
   ]
  },
  {
   "cell_type": "code",
   "execution_count": 38,
   "id": "bb42736a",
   "metadata": {},
   "outputs": [],
   "source": [
    "reviews_group1_a = pd.read_sql(\"SELECT * FROM udemy.df_reviews_top_a\", engine)\n",
    "reviews_group1_b = pd.read_sql(\"SELECT * FROM udemy.df_reviews_top_b\", engine)\n",
    "reviews_group2 = pd.read_sql(\"SELECT * FROM udemy.df_reviews_medium\", engine)"
   ]
  },
  {
   "cell_type": "code",
   "execution_count": 39,
   "id": "9c4d4b05",
   "metadata": {},
   "outputs": [],
   "source": [
    "reviews_group1 = pd.concat([reviews_group1_a, reviews_group1_b])"
   ]
  },
  {
   "cell_type": "code",
   "execution_count": 40,
   "id": "97afcd83",
   "metadata": {},
   "outputs": [],
   "source": [
    "# Check duplicates"
   ]
  },
  {
   "cell_type": "code",
   "execution_count": 41,
   "id": "8bc3a77e",
   "metadata": {},
   "outputs": [
    {
     "data": {
      "text/plain": [
       "0"
      ]
     },
     "execution_count": 41,
     "metadata": {},
     "output_type": "execute_result"
    }
   ],
   "source": [
    "reviews_group1.duplicated().sum()"
   ]
  },
  {
   "cell_type": "code",
   "execution_count": 42,
   "id": "ad06285f",
   "metadata": {},
   "outputs": [
    {
     "data": {
      "text/plain": [
       "0"
      ]
     },
     "execution_count": 42,
     "metadata": {},
     "output_type": "execute_result"
    }
   ],
   "source": [
    "reviews_group2.duplicated().sum()"
   ]
  },
  {
   "cell_type": "code",
   "execution_count": 43,
   "id": "d08aa113",
   "metadata": {},
   "outputs": [],
   "source": [
    "# check null values"
   ]
  },
  {
   "cell_type": "code",
   "execution_count": 44,
   "id": "47f4c299",
   "metadata": {},
   "outputs": [
    {
     "data": {
      "text/plain": [
       "0"
      ]
     },
     "execution_count": 44,
     "metadata": {},
     "output_type": "execute_result"
    }
   ],
   "source": [
    "reviews_group1.isna().sum().sum()"
   ]
  },
  {
   "cell_type": "code",
   "execution_count": 45,
   "id": "a4d693f1",
   "metadata": {},
   "outputs": [
    {
     "data": {
      "text/plain": [
       "0"
      ]
     },
     "execution_count": 45,
     "metadata": {},
     "output_type": "execute_result"
    }
   ],
   "source": [
    "reviews_group2.isna().sum().sum()"
   ]
  },
  {
   "cell_type": "code",
   "execution_count": 46,
   "id": "ef971fe6",
   "metadata": {},
   "outputs": [],
   "source": [
    "# check datatypes"
   ]
  },
  {
   "cell_type": "code",
   "execution_count": 47,
   "id": "0c3a075c",
   "metadata": {},
   "outputs": [
    {
     "data": {
      "text/plain": [
       "review_id         int64\n",
       "rating          float64\n",
       "comment          object\n",
       "created_time     object\n",
       "user             object\n",
       "course_id         int64\n",
       "dtype: object"
      ]
     },
     "execution_count": 47,
     "metadata": {},
     "output_type": "execute_result"
    }
   ],
   "source": [
    "reviews_group1.dtypes # need to correct created_time column"
   ]
  },
  {
   "cell_type": "code",
   "execution_count": 48,
   "id": "585ee545",
   "metadata": {},
   "outputs": [
    {
     "data": {
      "text/plain": [
       "review_id         int64\n",
       "rating          float64\n",
       "comment          object\n",
       "created_time     object\n",
       "user             object\n",
       "course_id         int64\n",
       "dtype: object"
      ]
     },
     "execution_count": 48,
     "metadata": {},
     "output_type": "execute_result"
    }
   ],
   "source": [
    "reviews_group2.dtypes"
   ]
  },
  {
   "cell_type": "code",
   "execution_count": 49,
   "id": "ac9af3a3",
   "metadata": {},
   "outputs": [],
   "source": [
    "reviews_group1['created_time'] = pd.to_datetime(reviews_group1['created_time'],utc=True).dt.date"
   ]
  },
  {
   "cell_type": "code",
   "execution_count": 50,
   "id": "a0771449",
   "metadata": {},
   "outputs": [],
   "source": [
    "reviews_group2['created_time'] = pd.to_datetime(reviews_group2['created_time'],utc=True).dt.date"
   ]
  },
  {
   "cell_type": "code",
   "execution_count": null,
   "id": "fb1dc947",
   "metadata": {},
   "outputs": [],
   "source": []
  },
  {
   "cell_type": "markdown",
   "id": "7272ba34",
   "metadata": {},
   "source": [
    "### Data cleaning and preparation of Course Curricula"
   ]
  },
  {
   "cell_type": "code",
   "execution_count": 51,
   "id": "2c3813e3",
   "metadata": {},
   "outputs": [],
   "source": [
    "curricula_group1 = pd.read_sql(\"SELECT * FROM udemy.df_curricula_top\", engine)\n",
    "curricula_group2 = pd.read_sql(\"SELECT * FROM udemy.df_curricula_medium\", engine)"
   ]
  },
  {
   "cell_type": "code",
   "execution_count": 52,
   "id": "19b5fb82",
   "metadata": {},
   "outputs": [],
   "source": [
    "# check duplicates"
   ]
  },
  {
   "cell_type": "code",
   "execution_count": 53,
   "id": "f54d8ce3",
   "metadata": {},
   "outputs": [
    {
     "data": {
      "text/plain": [
       "0"
      ]
     },
     "execution_count": 53,
     "metadata": {},
     "output_type": "execute_result"
    }
   ],
   "source": [
    "curricula_group1.duplicated().sum()"
   ]
  },
  {
   "cell_type": "code",
   "execution_count": 54,
   "id": "5c972c4c",
   "metadata": {},
   "outputs": [
    {
     "data": {
      "text/plain": [
       "0"
      ]
     },
     "execution_count": 54,
     "metadata": {},
     "output_type": "execute_result"
    }
   ],
   "source": [
    "curricula_group2.duplicated().sum()"
   ]
  },
  {
   "cell_type": "code",
   "execution_count": 55,
   "id": "563a3c3a",
   "metadata": {},
   "outputs": [],
   "source": [
    "# check null values"
   ]
  },
  {
   "cell_type": "code",
   "execution_count": 56,
   "id": "e6e7d670",
   "metadata": {},
   "outputs": [
    {
     "data": {
      "text/plain": [
       "0"
      ]
     },
     "execution_count": 56,
     "metadata": {},
     "output_type": "execute_result"
    }
   ],
   "source": [
    "curricula_group1.isna().sum().sum()"
   ]
  },
  {
   "cell_type": "code",
   "execution_count": 57,
   "id": "968c8b90",
   "metadata": {},
   "outputs": [
    {
     "data": {
      "text/plain": [
       "0"
      ]
     },
     "execution_count": 57,
     "metadata": {},
     "output_type": "execute_result"
    }
   ],
   "source": [
    "curricula_group2.isna().sum().sum()"
   ]
  },
  {
   "cell_type": "code",
   "execution_count": 58,
   "id": "c0b6e962",
   "metadata": {},
   "outputs": [],
   "source": [
    "# check data types (no changes needed)"
   ]
  },
  {
   "cell_type": "code",
   "execution_count": 59,
   "id": "adce148b",
   "metadata": {},
   "outputs": [
    {
     "data": {
      "text/plain": [
       "type_session_1     object\n",
       "title_session_1    object\n",
       "type_session_2     object\n",
       "title_session_2    object\n",
       "type_session_3     object\n",
       "title_session_3    object\n",
       "type_session_4     object\n",
       "title_session_4    object\n",
       "course_id           int64\n",
       "dtype: object"
      ]
     },
     "execution_count": 59,
     "metadata": {},
     "output_type": "execute_result"
    }
   ],
   "source": [
    "curricula_group1.dtypes"
   ]
  },
  {
   "cell_type": "code",
   "execution_count": 60,
   "id": "0468415e",
   "metadata": {},
   "outputs": [
    {
     "data": {
      "text/plain": [
       "type_session_1     object\n",
       "title_session_1    object\n",
       "type_session_2     object\n",
       "title_session_2    object\n",
       "type_session_3     object\n",
       "title_session_3    object\n",
       "type_session_4     object\n",
       "title_session_4    object\n",
       "course_id           int64\n",
       "dtype: object"
      ]
     },
     "execution_count": 60,
     "metadata": {},
     "output_type": "execute_result"
    }
   ],
   "source": [
    "curricula_group2.dtypes"
   ]
  },
  {
   "cell_type": "code",
   "execution_count": null,
   "id": "cd2468f7",
   "metadata": {},
   "outputs": [],
   "source": []
  },
  {
   "cell_type": "markdown",
   "id": "29bafb2d",
   "metadata": {},
   "source": [
    "### Creating the instructor table"
   ]
  },
  {
   "cell_type": "code",
   "execution_count": 61,
   "id": "b898361d",
   "metadata": {},
   "outputs": [
    {
     "data": {
      "text/plain": [
       "(39512, 23)"
      ]
     },
     "execution_count": 61,
     "metadata": {},
     "output_type": "execute_result"
    }
   ],
   "source": [
    "course_list.shape"
   ]
  },
  {
   "cell_type": "code",
   "execution_count": 62,
   "id": "65299c1d",
   "metadata": {},
   "outputs": [],
   "source": [
    "new1 = course_list.drop_duplicates(subset=['instructor','instructor_job_title'],keep='first').reset_index(drop=True).reset_index().rename(columns={'index':'instructor_id'})"
   ]
  },
  {
   "cell_type": "code",
   "execution_count": 63,
   "id": "0772bb24",
   "metadata": {},
   "outputs": [],
   "source": [
    "new1['instructor_id'] = new1['instructor_id']+1"
   ]
  },
  {
   "cell_type": "code",
   "execution_count": 64,
   "id": "f90393c2",
   "metadata": {},
   "outputs": [
    {
     "data": {
      "text/html": [
       "<div>\n",
       "<style scoped>\n",
       "    .dataframe tbody tr th:only-of-type {\n",
       "        vertical-align: middle;\n",
       "    }\n",
       "\n",
       "    .dataframe tbody tr th {\n",
       "        vertical-align: top;\n",
       "    }\n",
       "\n",
       "    .dataframe thead th {\n",
       "        text-align: right;\n",
       "    }\n",
       "</style>\n",
       "<table border=\"1\" class=\"dataframe\">\n",
       "  <thead>\n",
       "    <tr style=\"text-align: right;\">\n",
       "      <th></th>\n",
       "      <th>instructor_id</th>\n",
       "      <th>instructor</th>\n",
       "      <th>instructor_job_title</th>\n",
       "    </tr>\n",
       "  </thead>\n",
       "  <tbody>\n",
       "    <tr>\n",
       "      <th>0</th>\n",
       "      <td>1</td>\n",
       "      <td>Divine YJ Truth</td>\n",
       "      <td>I am a Producer</td>\n",
       "    </tr>\n",
       "    <tr>\n",
       "      <th>1</th>\n",
       "      <td>2</td>\n",
       "      <td>Mahmoud Elhalabi</td>\n",
       "      <td>Doctorate of business adminstration - Training...</td>\n",
       "    </tr>\n",
       "    <tr>\n",
       "      <th>2</th>\n",
       "      <td>3</td>\n",
       "      <td>Azharul Rafy</td>\n",
       "      <td>Content Creator &amp; Digital Marketer</td>\n",
       "    </tr>\n",
       "    <tr>\n",
       "      <th>3</th>\n",
       "      <td>4</td>\n",
       "      <td>Enes Karakaş</td>\n",
       "      <td>Developer &amp; @shareCodeCamp</td>\n",
       "    </tr>\n",
       "    <tr>\n",
       "      <th>4</th>\n",
       "      <td>5</td>\n",
       "      <td>Youssef Zidan</td>\n",
       "      <td>Graphic Designer</td>\n",
       "    </tr>\n",
       "    <tr>\n",
       "      <th>...</th>\n",
       "      <td>...</td>\n",
       "      <td>...</td>\n",
       "      <td>...</td>\n",
       "    </tr>\n",
       "    <tr>\n",
       "      <th>19583</th>\n",
       "      <td>19584</td>\n",
       "      <td>Hans Weemaes | LEED AP | WELL AP | TRUE | FITWELL</td>\n",
       "      <td>Sustainability Professional with over 15 years...</td>\n",
       "    </tr>\n",
       "    <tr>\n",
       "      <th>19584</th>\n",
       "      <td>19585</td>\n",
       "      <td>Sarah Laws</td>\n",
       "      <td>Entrepreneur, Marketing Nerd, and Martini Lover</td>\n",
       "    </tr>\n",
       "    <tr>\n",
       "      <th>19585</th>\n",
       "      <td>19586</td>\n",
       "      <td>Sagar Chakraborty</td>\n",
       "      <td>Business Coach</td>\n",
       "    </tr>\n",
       "    <tr>\n",
       "      <th>19586</th>\n",
       "      <td>19587</td>\n",
       "      <td>Giant Self</td>\n",
       "      <td>Solutions For Smart Business Owners</td>\n",
       "    </tr>\n",
       "    <tr>\n",
       "      <th>19587</th>\n",
       "      <td>19588</td>\n",
       "      <td>Nikita Sharma</td>\n",
       "      <td>Working Professional</td>\n",
       "    </tr>\n",
       "  </tbody>\n",
       "</table>\n",
       "<p>19588 rows × 3 columns</p>\n",
       "</div>"
      ],
      "text/plain": [
       "       instructor_id                                         instructor  \\\n",
       "0                  1                                    Divine YJ Truth   \n",
       "1                  2                                   Mahmoud Elhalabi   \n",
       "2                  3                                       Azharul Rafy   \n",
       "3                  4                                       Enes Karakaş   \n",
       "4                  5                                      Youssef Zidan   \n",
       "...              ...                                                ...   \n",
       "19583          19584  Hans Weemaes | LEED AP | WELL AP | TRUE | FITWELL   \n",
       "19584          19585                                         Sarah Laws   \n",
       "19585          19586                                  Sagar Chakraborty   \n",
       "19586          19587                                         Giant Self   \n",
       "19587          19588                                      Nikita Sharma   \n",
       "\n",
       "                                    instructor_job_title  \n",
       "0                                        I am a Producer  \n",
       "1      Doctorate of business adminstration - Training...  \n",
       "2                     Content Creator & Digital Marketer  \n",
       "3                             Developer & @shareCodeCamp  \n",
       "4                                       Graphic Designer  \n",
       "...                                                  ...  \n",
       "19583  Sustainability Professional with over 15 years...  \n",
       "19584    Entrepreneur, Marketing Nerd, and Martini Lover  \n",
       "19585                                     Business Coach  \n",
       "19586                Solutions For Smart Business Owners  \n",
       "19587                               Working Professional  \n",
       "\n",
       "[19588 rows x 3 columns]"
      ]
     },
     "execution_count": 64,
     "metadata": {},
     "output_type": "execute_result"
    }
   ],
   "source": [
    "instructors = new1[['instructor_id','instructor','instructor_job_title']]\n",
    "instructors"
   ]
  },
  {
   "cell_type": "code",
   "execution_count": 65,
   "id": "50e3415a",
   "metadata": {},
   "outputs": [],
   "source": [
    "course_list = course_list.merge(instructors, how='inner', on = ['instructor','instructor_job_title'],copy=False)"
   ]
  },
  {
   "cell_type": "code",
   "execution_count": 66,
   "id": "7442640d",
   "metadata": {},
   "outputs": [],
   "source": [
    "course_list = course_list.drop(['instructor','instructor_job_title'], axis=1)"
   ]
  },
  {
   "cell_type": "code",
   "execution_count": null,
   "id": "2d61d24d",
   "metadata": {},
   "outputs": [],
   "source": []
  },
  {
   "cell_type": "markdown",
   "id": "d7b29e6f",
   "metadata": {},
   "source": [
    "### Send cleaned data to SQL"
   ]
  },
  {
   "cell_type": "code",
   "execution_count": 67,
   "id": "e5d4cef3",
   "metadata": {},
   "outputs": [],
   "source": [
    "# Concatenating the two groups"
   ]
  },
  {
   "cell_type": "code",
   "execution_count": 68,
   "id": "ff1ff368",
   "metadata": {},
   "outputs": [],
   "source": [
    "reviews = pd.concat([reviews_group1,reviews_group2])\n",
    "curricula = pd.concat([curricula_group1, curricula_group2])"
   ]
  },
  {
   "cell_type": "code",
   "execution_count": 69,
   "id": "969763d2",
   "metadata": {},
   "outputs": [
    {
     "data": {
      "text/plain": [
       "19588"
      ]
     },
     "execution_count": 69,
     "metadata": {},
     "output_type": "execute_result"
    }
   ],
   "source": [
    "course_list.to_sql(\"course_list\", connection_string, schema='udemy_final', if_exists='replace', index = False)\n",
    "reviews.to_sql(\"reviews\", connection_string, schema='udemy_final', if_exists='replace', index = False)\n",
    "curricula.to_sql(\"curricula\", connection_string, schema='udemy_final', if_exists='replace', index = False)\n",
    "instructors.to_sql(\"instructors\", connection_string, schema='udemy_final', if_exists='replace', index = False)"
   ]
  },
  {
   "cell_type": "code",
   "execution_count": null,
   "id": "3f1e21ec",
   "metadata": {},
   "outputs": [],
   "source": []
  }
 ],
 "metadata": {
  "kernelspec": {
   "display_name": "Python 3 (ipykernel)",
   "language": "python",
   "name": "python3"
  },
  "language_info": {
   "codemirror_mode": {
    "name": "ipython",
    "version": 3
   },
   "file_extension": ".py",
   "mimetype": "text/x-python",
   "name": "python",
   "nbconvert_exporter": "python",
   "pygments_lexer": "ipython3",
   "version": "3.10.9"
  }
 },
 "nbformat": 4,
 "nbformat_minor": 5
}
